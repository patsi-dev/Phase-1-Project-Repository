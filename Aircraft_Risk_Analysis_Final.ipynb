{
 "cells": [
  {
   "cell_type": "markdown",
   "id": "346e8509",
   "metadata": {},
   "source": [
    "# Aircraft Risk Analysis for Business Investment"
   ]
  },
  {
   "cell_type": "markdown",
   "id": "c245e2ca",
   "metadata": {},
   "source": [
    "## Introduction\n",
    "\n",
    "This project aims to help a company newly entering the aviation industry make data-driven decisions on which aircraft types to invest in for both commercial and private operations. Given the considerable risk involved in aviation, particularly regarding safety and regulatory liability, a careful review of historical accident data is essential. The findings of this analysis will serve as a foundation for investment and operational planning.\n",
    "\n",
    "The analysis is based on historical civil aviation accident data recorded from 1962 to 2023. This data, maintained by the National Transportation Safety Board (NTSB), provides detailed records of accidents involving aircraft in the United States and international airspace. Each entry includes information such as aircraft type, accident severity, causes, and outcomes.\n",
    "\n",
    "Understanding which aircraft have the fewest and least severe accidents—and why—is crucial in determining the lowest-risk aircraft for a company looking to enter this high-stakes field.\n"
   ]
  },
  {
   "cell_type": "markdown",
   "id": "88938a91-9584-4eb9-ab90-8e945f4c079a",
   "metadata": {},
   "source": [
    "## Business Problem \n",
    "\n",
    "Your company is expanding into new industries to diversify its portfolio. Specifically, the company is interested in purchasing and operating airplanes for both commercial and private enterprises. However, it currently lacks an understanding of the potential risks associated with aircraft operations. You have been tasked with identifying the lowest-risk aircraft options to help guide this new venture. Your analysis must yield actionable insights that the leadership of the new aviation division can use to make informed investment decisions."
   ]
  },
  {
   "cell_type": "markdown",
   "id": "a6fd428e",
   "metadata": {},
   "source": [
    "## Objectives\n",
    "\n",
    "Our analysis focuses on four key objectives that will support safe and strategic decision-making:\n",
    "\n",
    "1. **Identify Aircraft Types with the Lowest Accident Rates**  \n",
    "   By analyzing the number of accidents associated with each aircraft model, we know which aircraft are more reliable and less likely to fail or mishandle.\n",
    "\n",
    "2. **Analyze the Severity of Accidents**  \n",
    "    I will use columns like fatalities, injuries, and aircraft damage to determine accident seriousness per aircraft type.\n",
    "\n",
    "   Aircraft types associated with more survivable accidents will be preferred.\n",
    "\n",
    "\n",
    "4. **Investigate What are the Common Causes of Accidents**  \n",
    "   I will assess contributing conditions, such as flight phase and weather, to understand operational risks.\n",
    "\n",
    "5. **Recommend Low-Risk Aircraft for New Investment**  \n",
    "    Recommend Low-Risk Aircraft for New Investment\n",
    "Integrate the findings to identify aircraft models with the best overall safety profile.\n",
    "\n"
   ]
  },
  {
   "cell_type": "code",
   "execution_count": 5,
   "id": "3a1aca33-40c4-4f52-943a-5045a98a1895",
   "metadata": {},
   "outputs": [],
   "source": [
    "#importing pandas\n",
    "import pandas as pd\n",
    "import matplotlib.pyplot as plt"
   ]
  },
  {
   "cell_type": "code",
   "execution_count": 6,
   "id": "f7c2a66e-0434-47a1-8524-3f18315814b5",
   "metadata": {},
   "outputs": [
    {
     "data": {
      "text/html": [
       "<div>\n",
       "<style scoped>\n",
       "    .dataframe tbody tr th:only-of-type {\n",
       "        vertical-align: middle;\n",
       "    }\n",
       "\n",
       "    .dataframe tbody tr th {\n",
       "        vertical-align: top;\n",
       "    }\n",
       "\n",
       "    .dataframe thead th {\n",
       "        text-align: right;\n",
       "    }\n",
       "</style>\n",
       "<table border=\"1\" class=\"dataframe\">\n",
       "  <thead>\n",
       "    <tr style=\"text-align: right;\">\n",
       "      <th></th>\n",
       "      <th>Event.Id</th>\n",
       "      <th>Investigation.Type</th>\n",
       "      <th>Accident.Number</th>\n",
       "      <th>Event.Date</th>\n",
       "      <th>Location</th>\n",
       "      <th>Country</th>\n",
       "      <th>Latitude</th>\n",
       "      <th>Longitude</th>\n",
       "      <th>Airport.Code</th>\n",
       "      <th>Airport.Name</th>\n",
       "      <th>...</th>\n",
       "      <th>Purpose.of.flight</th>\n",
       "      <th>Air.carrier</th>\n",
       "      <th>Total.Fatal.Injuries</th>\n",
       "      <th>Total.Serious.Injuries</th>\n",
       "      <th>Total.Minor.Injuries</th>\n",
       "      <th>Total.Uninjured</th>\n",
       "      <th>Weather.Condition</th>\n",
       "      <th>Broad.phase.of.flight</th>\n",
       "      <th>Report.Status</th>\n",
       "      <th>Publication.Date</th>\n",
       "    </tr>\n",
       "  </thead>\n",
       "  <tbody>\n",
       "    <tr>\n",
       "      <th>0</th>\n",
       "      <td>20001218X45444</td>\n",
       "      <td>Accident</td>\n",
       "      <td>SEA87LA080</td>\n",
       "      <td>1948-10-24</td>\n",
       "      <td>MOOSE CREEK, ID</td>\n",
       "      <td>United States</td>\n",
       "      <td>NaN</td>\n",
       "      <td>NaN</td>\n",
       "      <td>NaN</td>\n",
       "      <td>NaN</td>\n",
       "      <td>...</td>\n",
       "      <td>Personal</td>\n",
       "      <td>NaN</td>\n",
       "      <td>2.0</td>\n",
       "      <td>0.0</td>\n",
       "      <td>0.0</td>\n",
       "      <td>0.0</td>\n",
       "      <td>UNK</td>\n",
       "      <td>Cruise</td>\n",
       "      <td>Probable Cause</td>\n",
       "      <td>NaN</td>\n",
       "    </tr>\n",
       "    <tr>\n",
       "      <th>1</th>\n",
       "      <td>20001218X45447</td>\n",
       "      <td>Accident</td>\n",
       "      <td>LAX94LA336</td>\n",
       "      <td>1962-07-19</td>\n",
       "      <td>BRIDGEPORT, CA</td>\n",
       "      <td>United States</td>\n",
       "      <td>NaN</td>\n",
       "      <td>NaN</td>\n",
       "      <td>NaN</td>\n",
       "      <td>NaN</td>\n",
       "      <td>...</td>\n",
       "      <td>Personal</td>\n",
       "      <td>NaN</td>\n",
       "      <td>4.0</td>\n",
       "      <td>0.0</td>\n",
       "      <td>0.0</td>\n",
       "      <td>0.0</td>\n",
       "      <td>UNK</td>\n",
       "      <td>Unknown</td>\n",
       "      <td>Probable Cause</td>\n",
       "      <td>19-09-1996</td>\n",
       "    </tr>\n",
       "    <tr>\n",
       "      <th>2</th>\n",
       "      <td>20061025X01555</td>\n",
       "      <td>Accident</td>\n",
       "      <td>NYC07LA005</td>\n",
       "      <td>1974-08-30</td>\n",
       "      <td>Saltville, VA</td>\n",
       "      <td>United States</td>\n",
       "      <td>36.922223</td>\n",
       "      <td>-81.878056</td>\n",
       "      <td>NaN</td>\n",
       "      <td>NaN</td>\n",
       "      <td>...</td>\n",
       "      <td>Personal</td>\n",
       "      <td>NaN</td>\n",
       "      <td>3.0</td>\n",
       "      <td>NaN</td>\n",
       "      <td>NaN</td>\n",
       "      <td>NaN</td>\n",
       "      <td>IMC</td>\n",
       "      <td>Cruise</td>\n",
       "      <td>Probable Cause</td>\n",
       "      <td>26-02-2007</td>\n",
       "    </tr>\n",
       "    <tr>\n",
       "      <th>3</th>\n",
       "      <td>20001218X45448</td>\n",
       "      <td>Accident</td>\n",
       "      <td>LAX96LA321</td>\n",
       "      <td>1977-06-19</td>\n",
       "      <td>EUREKA, CA</td>\n",
       "      <td>United States</td>\n",
       "      <td>NaN</td>\n",
       "      <td>NaN</td>\n",
       "      <td>NaN</td>\n",
       "      <td>NaN</td>\n",
       "      <td>...</td>\n",
       "      <td>Personal</td>\n",
       "      <td>NaN</td>\n",
       "      <td>2.0</td>\n",
       "      <td>0.0</td>\n",
       "      <td>0.0</td>\n",
       "      <td>0.0</td>\n",
       "      <td>IMC</td>\n",
       "      <td>Cruise</td>\n",
       "      <td>Probable Cause</td>\n",
       "      <td>12-09-2000</td>\n",
       "    </tr>\n",
       "    <tr>\n",
       "      <th>4</th>\n",
       "      <td>20041105X01764</td>\n",
       "      <td>Accident</td>\n",
       "      <td>CHI79FA064</td>\n",
       "      <td>1979-08-02</td>\n",
       "      <td>Canton, OH</td>\n",
       "      <td>United States</td>\n",
       "      <td>NaN</td>\n",
       "      <td>NaN</td>\n",
       "      <td>NaN</td>\n",
       "      <td>NaN</td>\n",
       "      <td>...</td>\n",
       "      <td>Personal</td>\n",
       "      <td>NaN</td>\n",
       "      <td>1.0</td>\n",
       "      <td>2.0</td>\n",
       "      <td>NaN</td>\n",
       "      <td>0.0</td>\n",
       "      <td>VMC</td>\n",
       "      <td>Approach</td>\n",
       "      <td>Probable Cause</td>\n",
       "      <td>16-04-1980</td>\n",
       "    </tr>\n",
       "  </tbody>\n",
       "</table>\n",
       "<p>5 rows × 31 columns</p>\n",
       "</div>"
      ],
      "text/plain": [
       "         Event.Id Investigation.Type Accident.Number  Event.Date  \\\n",
       "0  20001218X45444           Accident      SEA87LA080  1948-10-24   \n",
       "1  20001218X45447           Accident      LAX94LA336  1962-07-19   \n",
       "2  20061025X01555           Accident      NYC07LA005  1974-08-30   \n",
       "3  20001218X45448           Accident      LAX96LA321  1977-06-19   \n",
       "4  20041105X01764           Accident      CHI79FA064  1979-08-02   \n",
       "\n",
       "          Location        Country   Latitude   Longitude Airport.Code  \\\n",
       "0  MOOSE CREEK, ID  United States        NaN         NaN          NaN   \n",
       "1   BRIDGEPORT, CA  United States        NaN         NaN          NaN   \n",
       "2    Saltville, VA  United States  36.922223  -81.878056          NaN   \n",
       "3       EUREKA, CA  United States        NaN         NaN          NaN   \n",
       "4       Canton, OH  United States        NaN         NaN          NaN   \n",
       "\n",
       "  Airport.Name  ... Purpose.of.flight Air.carrier Total.Fatal.Injuries  \\\n",
       "0          NaN  ...          Personal         NaN                  2.0   \n",
       "1          NaN  ...          Personal         NaN                  4.0   \n",
       "2          NaN  ...          Personal         NaN                  3.0   \n",
       "3          NaN  ...          Personal         NaN                  2.0   \n",
       "4          NaN  ...          Personal         NaN                  1.0   \n",
       "\n",
       "  Total.Serious.Injuries Total.Minor.Injuries Total.Uninjured  \\\n",
       "0                    0.0                  0.0             0.0   \n",
       "1                    0.0                  0.0             0.0   \n",
       "2                    NaN                  NaN             NaN   \n",
       "3                    0.0                  0.0             0.0   \n",
       "4                    2.0                  NaN             0.0   \n",
       "\n",
       "  Weather.Condition  Broad.phase.of.flight   Report.Status Publication.Date  \n",
       "0               UNK                 Cruise  Probable Cause              NaN  \n",
       "1               UNK                Unknown  Probable Cause       19-09-1996  \n",
       "2               IMC                 Cruise  Probable Cause       26-02-2007  \n",
       "3               IMC                 Cruise  Probable Cause       12-09-2000  \n",
       "4               VMC               Approach  Probable Cause       16-04-1980  \n",
       "\n",
       "[5 rows x 31 columns]"
      ]
     },
     "execution_count": 6,
     "metadata": {},
     "output_type": "execute_result"
    }
   ],
   "source": [
    "# Loading AviationData\n",
    "full_df = pd.read_csv(\"data/AviationData.csv\", encoding = 'latin-1', low_memory = False)\n",
    "full_df.head()"
   ]
  },
  {
   "cell_type": "markdown",
   "id": "dc9170c5",
   "metadata": {},
   "source": [
    "## Data Overview\n",
    "\n",
    "The dataset used for this analysis was sourced from the National Transportation Safety Board (NTSB). It includes accident reports from 1962 to 2023 and covers civil aviation incidents. The key columns used include:\n",
    "\n",
    "- `Make and Model`: Identifies the aircraft type.\n",
    "\n",
    "- `Event.Date`: Date of the accident.\n",
    "\n",
    "- `Injury.Severity`: Measure of severity (Fatal, Serious).\n",
    "\n",
    "- `Total.Fatal.Injuries`, `Total.Serious.Injuries`, `Total.Minor.Injuries`, `Total.Uninjured`: Injury data in numbers.\n",
    "\n",
    "- `Aircraft.damage`: Damage level (Substantial, Destroyed).\n",
    "\n",
    "- `Weather.Condition`: Visual or Instrument conditions (VMC (bad) or IMC (good)).\n",
    "\n",
    "- `Broad.phase.of.flight`: When the accident occurred (Landing, Cruise).\n",
    "\n",
    "- `Purpose.of.flight`: Mission type (Personal, Instructional).\n",
    "\n",
    "This will enables me to segment risk by aircraft model, Severity and  it's causes.\n"
   ]
  },
  {
   "cell_type": "markdown",
   "id": "56491ed3-5d1f-4cef-ac97-4831bd5107fa",
   "metadata": {},
   "source": [
    "## Data Cleaning and Preparation\n",
    "\n",
    "To clean the dataset, I will carry out this steps:"
   ]
  },
  {
   "cell_type": "markdown",
   "id": "f2122675-6bcb-4b02-b987-07a9f7a9ecbe",
   "metadata": {},
   "source": [
    "  \n",
    "   - Dropping rows with missing values in this columns as they are very critical for our analysis: `Make`, `Model`, `Total.Fatal.Injuries`, `Total.Serious.Injuries`,`Total.Minor.Injuries`, `Total.Uninjured`, `Aircraft.damage`,`Purpose.of.flight`"
   ]
  },
  {
   "cell_type": "code",
   "execution_count": 10,
   "id": "aea4667c-89ba-4253-b490-aa3310192b32",
   "metadata": {},
   "outputs": [],
   "source": [
    "# Using dropna to drop rows with missing values\n",
    "cleaned_df = full_df.dropna(subset=[\"Make\", \"Model\", \"Total.Fatal.Injuries\", \"Total.Serious.Injuries\",\n",
    "                                    \"Total.Minor.Injuries\", \"Total.Uninjured\", \"Aircraft.damage\",\n",
    "                                    \"Purpose.of.flight\"])"
   ]
  },
  {
   "cell_type": "code",
   "execution_count": 11,
   "id": "be842dff-0d48-4281-b514-47559e15b4d0",
   "metadata": {},
   "outputs": [
    {
     "data": {
      "text/html": [
       "<div>\n",
       "<style scoped>\n",
       "    .dataframe tbody tr th:only-of-type {\n",
       "        vertical-align: middle;\n",
       "    }\n",
       "\n",
       "    .dataframe tbody tr th {\n",
       "        vertical-align: top;\n",
       "    }\n",
       "\n",
       "    .dataframe thead th {\n",
       "        text-align: right;\n",
       "    }\n",
       "</style>\n",
       "<table border=\"1\" class=\"dataframe\">\n",
       "  <thead>\n",
       "    <tr style=\"text-align: right;\">\n",
       "      <th></th>\n",
       "      <th>Event.Id</th>\n",
       "      <th>Investigation.Type</th>\n",
       "      <th>Accident.Number</th>\n",
       "      <th>Event.Date</th>\n",
       "      <th>Location</th>\n",
       "      <th>Country</th>\n",
       "      <th>Latitude</th>\n",
       "      <th>Longitude</th>\n",
       "      <th>Airport.Code</th>\n",
       "      <th>Airport.Name</th>\n",
       "      <th>...</th>\n",
       "      <th>Purpose.of.flight</th>\n",
       "      <th>Air.carrier</th>\n",
       "      <th>Total.Fatal.Injuries</th>\n",
       "      <th>Total.Serious.Injuries</th>\n",
       "      <th>Total.Minor.Injuries</th>\n",
       "      <th>Total.Uninjured</th>\n",
       "      <th>Weather.Condition</th>\n",
       "      <th>Broad.phase.of.flight</th>\n",
       "      <th>Report.Status</th>\n",
       "      <th>Publication.Date</th>\n",
       "    </tr>\n",
       "  </thead>\n",
       "  <tbody>\n",
       "    <tr>\n",
       "      <th>0</th>\n",
       "      <td>20001218X45444</td>\n",
       "      <td>Accident</td>\n",
       "      <td>SEA87LA080</td>\n",
       "      <td>1948-10-24</td>\n",
       "      <td>MOOSE CREEK, ID</td>\n",
       "      <td>United States</td>\n",
       "      <td>NaN</td>\n",
       "      <td>NaN</td>\n",
       "      <td>NaN</td>\n",
       "      <td>NaN</td>\n",
       "      <td>...</td>\n",
       "      <td>Personal</td>\n",
       "      <td>NaN</td>\n",
       "      <td>2.0</td>\n",
       "      <td>0.0</td>\n",
       "      <td>0.0</td>\n",
       "      <td>0.0</td>\n",
       "      <td>UNK</td>\n",
       "      <td>Cruise</td>\n",
       "      <td>Probable Cause</td>\n",
       "      <td>NaN</td>\n",
       "    </tr>\n",
       "    <tr>\n",
       "      <th>1</th>\n",
       "      <td>20001218X45447</td>\n",
       "      <td>Accident</td>\n",
       "      <td>LAX94LA336</td>\n",
       "      <td>1962-07-19</td>\n",
       "      <td>BRIDGEPORT, CA</td>\n",
       "      <td>United States</td>\n",
       "      <td>NaN</td>\n",
       "      <td>NaN</td>\n",
       "      <td>NaN</td>\n",
       "      <td>NaN</td>\n",
       "      <td>...</td>\n",
       "      <td>Personal</td>\n",
       "      <td>NaN</td>\n",
       "      <td>4.0</td>\n",
       "      <td>0.0</td>\n",
       "      <td>0.0</td>\n",
       "      <td>0.0</td>\n",
       "      <td>UNK</td>\n",
       "      <td>Unknown</td>\n",
       "      <td>Probable Cause</td>\n",
       "      <td>19-09-1996</td>\n",
       "    </tr>\n",
       "    <tr>\n",
       "      <th>3</th>\n",
       "      <td>20001218X45448</td>\n",
       "      <td>Accident</td>\n",
       "      <td>LAX96LA321</td>\n",
       "      <td>1977-06-19</td>\n",
       "      <td>EUREKA, CA</td>\n",
       "      <td>United States</td>\n",
       "      <td>NaN</td>\n",
       "      <td>NaN</td>\n",
       "      <td>NaN</td>\n",
       "      <td>NaN</td>\n",
       "      <td>...</td>\n",
       "      <td>Personal</td>\n",
       "      <td>NaN</td>\n",
       "      <td>2.0</td>\n",
       "      <td>0.0</td>\n",
       "      <td>0.0</td>\n",
       "      <td>0.0</td>\n",
       "      <td>IMC</td>\n",
       "      <td>Cruise</td>\n",
       "      <td>Probable Cause</td>\n",
       "      <td>12-09-2000</td>\n",
       "    </tr>\n",
       "    <tr>\n",
       "      <th>6</th>\n",
       "      <td>20001218X45446</td>\n",
       "      <td>Accident</td>\n",
       "      <td>CHI81LA106</td>\n",
       "      <td>1981-08-01</td>\n",
       "      <td>COTTON, MN</td>\n",
       "      <td>United States</td>\n",
       "      <td>NaN</td>\n",
       "      <td>NaN</td>\n",
       "      <td>NaN</td>\n",
       "      <td>NaN</td>\n",
       "      <td>...</td>\n",
       "      <td>Personal</td>\n",
       "      <td>NaN</td>\n",
       "      <td>4.0</td>\n",
       "      <td>0.0</td>\n",
       "      <td>0.0</td>\n",
       "      <td>0.0</td>\n",
       "      <td>IMC</td>\n",
       "      <td>Unknown</td>\n",
       "      <td>Probable Cause</td>\n",
       "      <td>06-11-2001</td>\n",
       "    </tr>\n",
       "    <tr>\n",
       "      <th>7</th>\n",
       "      <td>20020909X01562</td>\n",
       "      <td>Accident</td>\n",
       "      <td>SEA82DA022</td>\n",
       "      <td>1982-01-01</td>\n",
       "      <td>PULLMAN, WA</td>\n",
       "      <td>United States</td>\n",
       "      <td>NaN</td>\n",
       "      <td>NaN</td>\n",
       "      <td>NaN</td>\n",
       "      <td>BLACKBURN AG STRIP</td>\n",
       "      <td>...</td>\n",
       "      <td>Personal</td>\n",
       "      <td>NaN</td>\n",
       "      <td>0.0</td>\n",
       "      <td>0.0</td>\n",
       "      <td>0.0</td>\n",
       "      <td>2.0</td>\n",
       "      <td>VMC</td>\n",
       "      <td>Takeoff</td>\n",
       "      <td>Probable Cause</td>\n",
       "      <td>01-01-1982</td>\n",
       "    </tr>\n",
       "  </tbody>\n",
       "</table>\n",
       "<p>5 rows × 31 columns</p>\n",
       "</div>"
      ],
      "text/plain": [
       "         Event.Id Investigation.Type Accident.Number  Event.Date  \\\n",
       "0  20001218X45444           Accident      SEA87LA080  1948-10-24   \n",
       "1  20001218X45447           Accident      LAX94LA336  1962-07-19   \n",
       "3  20001218X45448           Accident      LAX96LA321  1977-06-19   \n",
       "6  20001218X45446           Accident      CHI81LA106  1981-08-01   \n",
       "7  20020909X01562           Accident      SEA82DA022  1982-01-01   \n",
       "\n",
       "          Location        Country Latitude Longitude Airport.Code  \\\n",
       "0  MOOSE CREEK, ID  United States      NaN       NaN          NaN   \n",
       "1   BRIDGEPORT, CA  United States      NaN       NaN          NaN   \n",
       "3       EUREKA, CA  United States      NaN       NaN          NaN   \n",
       "6       COTTON, MN  United States      NaN       NaN          NaN   \n",
       "7      PULLMAN, WA  United States      NaN       NaN          NaN   \n",
       "\n",
       "         Airport.Name  ... Purpose.of.flight Air.carrier Total.Fatal.Injuries  \\\n",
       "0                 NaN  ...          Personal         NaN                  2.0   \n",
       "1                 NaN  ...          Personal         NaN                  4.0   \n",
       "3                 NaN  ...          Personal         NaN                  2.0   \n",
       "6                 NaN  ...          Personal         NaN                  4.0   \n",
       "7  BLACKBURN AG STRIP  ...          Personal         NaN                  0.0   \n",
       "\n",
       "  Total.Serious.Injuries Total.Minor.Injuries Total.Uninjured  \\\n",
       "0                    0.0                  0.0             0.0   \n",
       "1                    0.0                  0.0             0.0   \n",
       "3                    0.0                  0.0             0.0   \n",
       "6                    0.0                  0.0             0.0   \n",
       "7                    0.0                  0.0             2.0   \n",
       "\n",
       "  Weather.Condition  Broad.phase.of.flight   Report.Status Publication.Date  \n",
       "0               UNK                 Cruise  Probable Cause              NaN  \n",
       "1               UNK                Unknown  Probable Cause       19-09-1996  \n",
       "3               IMC                 Cruise  Probable Cause       12-09-2000  \n",
       "6               IMC                Unknown  Probable Cause       06-11-2001  \n",
       "7               VMC                Takeoff  Probable Cause       01-01-1982  \n",
       "\n",
       "[5 rows x 31 columns]"
      ]
     },
     "execution_count": 11,
     "metadata": {},
     "output_type": "execute_result"
    }
   ],
   "source": [
    "cleaned_df.head()"
   ]
  },
  {
   "cell_type": "markdown",
   "id": "eb775a64-8e37-4c84-862b-a072c7ac717e",
   "metadata": {},
   "source": [
    " Dropped records are 20,520 which is 23% of the total data. That's much, but it still leaves a very large dataset of over 68,000 rows"
   ]
  },
  {
   "cell_type": "code",
   "execution_count": 14,
   "id": "b390a070-bd77-40f1-bee1-79dd3fc610d1",
   "metadata": {},
   "outputs": [
    {
     "data": {
      "text/plain": [
       "Make\n",
       "Cessna                   17911\n",
       "Piper                     9753\n",
       "CESSNA                    4254\n",
       "Beech                     3401\n",
       "PIPER                     2532\n",
       "                         ...  \n",
       "Fronsman                     1\n",
       "Slingsby Aviation Plc        1\n",
       "Niquette                     1\n",
       "Moran                        1\n",
       "ORLICAN S R O                1\n",
       "Name: count, Length: 6696, dtype: int64"
      ]
     },
     "execution_count": 14,
     "metadata": {},
     "output_type": "execute_result"
    }
   ],
   "source": [
    "# Checks for the values in the make column\n",
    "cleaned_df[\"Make\"].value_counts()"
   ]
  },
  {
   "cell_type": "markdown",
   "id": "794ae397-a49e-465e-9637-18e4c5f1db74",
   "metadata": {},
   "source": [
    "There are values in `Make` column which repeats themselves but in lower and upper case such as cessna and CESSNA"
   ]
  },
  {
   "cell_type": "markdown",
   "id": "45b1c9fa-f0b3-488d-91fb-8fd3323d0726",
   "metadata": {},
   "source": [
    "I will correct it by making all of them uppercase"
   ]
  },
  {
   "cell_type": "code",
   "execution_count": 17,
   "id": "32f53301-03c8-4ef5-b335-96a3d97017e8",
   "metadata": {},
   "outputs": [
    {
     "name": "stderr",
     "output_type": "stream",
     "text": [
      "C:\\Users\\ADMIN\\AppData\\Local\\Temp\\ipykernel_32248\\2690328754.py:1: SettingWithCopyWarning: \n",
      "A value is trying to be set on a copy of a slice from a DataFrame.\n",
      "Try using .loc[row_indexer,col_indexer] = value instead\n",
      "\n",
      "See the caveats in the documentation: https://pandas.pydata.org/pandas-docs/stable/user_guide/indexing.html#returning-a-view-versus-a-copy\n",
      "  cleaned_df['Make'] = cleaned_df['Make'].str.upper().str.strip()\n"
     ]
    },
    {
     "data": {
      "text/plain": [
       "Make\n",
       "CESSNA           22165\n",
       "PIPER            12285\n",
       "BEECH             4289\n",
       "BELL              2003\n",
       "MOONEY            1073\n",
       "                 ...  \n",
       "RAMESBOTHAM          1\n",
       "SCHULER              1\n",
       "MROTEK               1\n",
       "STOUT                1\n",
       "ORLICAN S R O        1\n",
       "Name: count, Length: 6184, dtype: int64"
      ]
     },
     "execution_count": 17,
     "metadata": {},
     "output_type": "execute_result"
    }
   ],
   "source": [
    "cleaned_df['Make'] = cleaned_df['Make'].str.upper().str.strip()\n",
    "cleaned_df[\"Make\"].value_counts()"
   ]
  },
  {
   "cell_type": "markdown",
   "id": "6ad62a27-98ad-4b8f-8212-f818726f1d49",
   "metadata": {},
   "source": [
    "- Filling missing `Broad.phase.of.flight` and `Weather.Condition` with \"Unknown\" so as not to lose a significant amount of data."
   ]
  },
  {
   "cell_type": "code",
   "execution_count": 19,
   "id": "90417ef4-7419-4051-b76b-42b73c7ed92b",
   "metadata": {},
   "outputs": [
    {
     "name": "stderr",
     "output_type": "stream",
     "text": [
      "C:\\Users\\ADMIN\\AppData\\Local\\Temp\\ipykernel_32248\\3566724270.py:2: SettingWithCopyWarning: \n",
      "A value is trying to be set on a copy of a slice from a DataFrame.\n",
      "Try using .loc[row_indexer,col_indexer] = value instead\n",
      "\n",
      "See the caveats in the documentation: https://pandas.pydata.org/pandas-docs/stable/user_guide/indexing.html#returning-a-view-versus-a-copy\n",
      "  cleaned_df['Broad.phase.of.flight'] = cleaned_df['Broad.phase.of.flight'].fillna('Unknown')\n"
     ]
    }
   ],
   "source": [
    "# Filling NaN values of 'Broad.phase.of.flight' with 'Unknown'\n",
    "cleaned_df['Broad.phase.of.flight'] = cleaned_df['Broad.phase.of.flight'].fillna('Unknown')"
   ]
  },
  {
   "cell_type": "code",
   "execution_count": 21,
   "id": "615f9cf1-24cb-4a87-b6f6-74d37199a706",
   "metadata": {},
   "outputs": [
    {
     "data": {
      "text/plain": [
       "Broad.phase.of.flight\n",
       "Unknown        21481\n",
       "Landing        11570\n",
       "Takeoff         9825\n",
       "Cruise          7971\n",
       "Maneuvering     6430\n",
       "Approach        5058\n",
       "Climb           1540\n",
       "Taxi            1430\n",
       "Descent         1377\n",
       "Go-around       1055\n",
       "Standing         540\n",
       "Other             92\n",
       "Name: count, dtype: int64"
      ]
     },
     "execution_count": 21,
     "metadata": {},
     "output_type": "execute_result"
    }
   ],
   "source": [
    "cleaned_df['Broad.phase.of.flight'].value_counts()"
   ]
  },
  {
   "cell_type": "markdown",
   "id": "55edc75e-56ea-4897-89d8-12f937b93354",
   "metadata": {},
   "source": [
    "We see that Unknown makes much of the data (30% thereabout), but it is not a significant problem as we will use this column just partially"
   ]
  },
  {
   "cell_type": "markdown",
   "id": "091f55c9-06e7-4ffd-9cfa-b966a9bb6863",
   "metadata": {},
   "source": [
    "- mapping Unk to UNK for consistency and replacing NaN with 'UNK' in `Weather.Condition` column"
   ]
  },
  {
   "cell_type": "code",
   "execution_count": 30,
   "id": "583e1b5b-a1b4-45d1-830b-8aab622f40d8",
   "metadata": {},
   "outputs": [
    {
     "name": "stderr",
     "output_type": "stream",
     "text": [
      "C:\\Users\\ADMIN\\AppData\\Local\\Temp\\ipykernel_32248\\186305214.py:3: SettingWithCopyWarning: \n",
      "A value is trying to be set on a copy of a slice from a DataFrame.\n",
      "Try using .loc[row_indexer,col_indexer] = value instead\n",
      "\n",
      "See the caveats in the documentation: https://pandas.pydata.org/pandas-docs/stable/user_guide/indexing.html#returning-a-view-versus-a-copy\n",
      "  cleaned_df['Weather.Condition'] = cleaned_df['Weather.Condition'].fillna('UNK').map(unkToUNK)\n"
     ]
    }
   ],
   "source": [
    "# mapping Unk to UNK for consistency and filling replacing NaN with 'UNK'\n",
    "unkToUNK = {'Unk' : 'UNK', 'IMC' : 'IMC', 'UNK' : 'UNK', 'VMC' : 'VMC'}\n",
    "cleaned_df['Weather.Condition'] = cleaned_df['Weather.Condition'].fillna('UNK').map(unkToUNK)"
   ]
  },
  {
   "cell_type": "code",
   "execution_count": 31,
   "id": "a2da592f-f91a-4703-a38c-055f6c4716ec",
   "metadata": {},
   "outputs": [
    {
     "data": {
      "text/plain": [
       "Weather.Condition\n",
       "VMC    62047\n",
       "IMC     4620\n",
       "UNK     1702\n",
       "Name: count, dtype: int64"
      ]
     },
     "execution_count": 31,
     "metadata": {},
     "output_type": "execute_result"
    }
   ],
   "source": [
    "cleaned_df['Weather.Condition'].value_counts()"
   ]
  },
  {
   "cell_type": "markdown",
   "id": "beefede1-c342-4dc1-aaa8-8ae9dccf92d5",
   "metadata": {},
   "source": [
    "unknown percentage is 2.49%, it is not that significant"
   ]
  },
  {
   "cell_type": "markdown",
   "id": "85707d35-96be-4edf-9aca-a1a4744a5765",
   "metadata": {},
   "source": [
    "- Standardizing `Injury.Severity` values:"
   ]
  },
  {
   "cell_type": "code",
   "execution_count": 36,
   "id": "23523529-eaa5-4e48-bddb-23be165cd55c",
   "metadata": {},
   "outputs": [],
   "source": [
    "# replacing 'NaN' with 'Unavailable'\n",
    "cleaned_df.loc[cleaned_df['Injury.Severity'].isna(), 'Injury.Severity'] = 'Unavailable'\n",
    "\n",
    "# Also I have seen there are many fatal with numbers on the side eg  (Fatal(2)), for uniformity I will remove the numbers\n",
    "cleaned_df.loc[cleaned_df['Injury.Severity'].str.contains('Fatal\\\\('), 'Injury.Severity'] = 'Fatal'"
   ]
  },
  {
   "cell_type": "code",
   "execution_count": 38,
   "id": "c23e5540-378d-47ba-aa10-837d7631bf36",
   "metadata": {},
   "outputs": [
    {
     "data": {
      "text/plain": [
       "Injury.Severity\n",
       "Non-Fatal    53636\n",
       "Fatal        13354\n",
       "Incident      1015\n",
       "Minor          190\n",
       "Serious        133\n",
       "Name: count, dtype: int64"
      ]
     },
     "execution_count": 38,
     "metadata": {},
     "output_type": "execute_result"
    }
   ],
   "source": [
    "cleaned_df['Injury.Severity'].value_counts().head()"
   ]
  },
  {
   "cell_type": "markdown",
   "id": "414c1f0a-679f-4ea1-b1eb-f6e4cc4cf15a",
   "metadata": {},
   "source": [
    " - Cleaning `Purpose.of.flight` by merging ambiguous codes:"
   ]
  },
  {
   "cell_type": "code",
   "execution_count": 41,
   "id": "387089b4-cf66-4bfd-8b51-cd3cf048e4c8",
   "metadata": {},
   "outputs": [
    {
     "data": {
      "text/plain": [
       "Purpose.of.flight\n",
       "Personal                     41098\n",
       "Instructional                 8717\n",
       "Unknown                       5596\n",
       "Aerial Application            4104\n",
       "Business                      3456\n",
       "Positioning                   1204\n",
       "Other Work Use                 935\n",
       "Ferry                          724\n",
       "Aerial Observation             660\n",
       "Public Aircraft                523\n",
       "Executive/corporate            447\n",
       "Flight Test                    254\n",
       "Skydiving                      109\n",
       "External Load                   98\n",
       "Air Race show                   90\n",
       "Public Aircraft - Federal       78\n",
       "Banner Tow                      76\n",
       "Public Aircraft - Local         61\n",
       "Public Aircraft - State         47\n",
       "Glider Tow                      43\n",
       "Firefighting                    31\n",
       "Air Drop                         7\n",
       "ASHO                             6\n",
       "PUBS                             4\n",
       "PUBL                             1\n",
       "Name: count, dtype: int64"
      ]
     },
     "execution_count": 41,
     "metadata": {},
     "output_type": "execute_result"
    }
   ],
   "source": [
    "cleaned_df['Purpose.of.flight'].value_counts()\n"
   ]
  },
  {
   "cell_type": "markdown",
   "id": "ac73a0b7-9db9-4dc9-96fd-5823ccd74461",
   "metadata": {},
   "source": [
    "there are ambigous abbreviations that I do not know what they mean, I will look it up then replace with meaningful names\n",
    "\n",
    "Also I will replace values that are not meaningful to the analysis with the value 'other'"
   ]
  },
  {
   "cell_type": "code",
   "execution_count": 44,
   "id": "bc02f110-2903-4d75-a406-d0a80c4a4f0b",
   "metadata": {},
   "outputs": [
    {
     "name": "stderr",
     "output_type": "stream",
     "text": [
      "C:\\Users\\ADMIN\\AppData\\Local\\Temp\\ipykernel_32248\\2559140639.py:2: SettingWithCopyWarning: \n",
      "A value is trying to be set on a copy of a slice from a DataFrame.\n",
      "Try using .loc[row_indexer,col_indexer] = value instead\n",
      "\n",
      "See the caveats in the documentation: https://pandas.pydata.org/pandas-docs/stable/user_guide/indexing.html#returning-a-view-versus-a-copy\n",
      "  cleaned_df['Purpose.of.flight'] = cleaned_df['Purpose.of.flight'].replace({'PUBL': 'Public Aircraft','PUBS': 'Public Aircraft','ASHO': 'Air Race show'})\n",
      "C:\\Users\\ADMIN\\AppData\\Local\\Temp\\ipykernel_32248\\2559140639.py:6: SettingWithCopyWarning: \n",
      "A value is trying to be set on a copy of a slice from a DataFrame.\n",
      "Try using .loc[row_indexer,col_indexer] = value instead\n",
      "\n",
      "See the caveats in the documentation: https://pandas.pydata.org/pandas-docs/stable/user_guide/indexing.html#returning-a-view-versus-a-copy\n",
      "  cleaned_df['Purpose.of.flight'] = cleaned_df['Purpose.of.flight'].apply(lambda x: x if x in common_purposes else 'Other')\n"
     ]
    }
   ],
   "source": [
    "# replacing ambigous abbreviations with meaningful names\n",
    "cleaned_df['Purpose.of.flight'] = cleaned_df['Purpose.of.flight'].replace({'PUBL': 'Public Aircraft','PUBS': 'Public Aircraft','ASHO': 'Air Race show'})\n",
    "\n",
    "# replacing values that are not meaningful to the analysis with 'other'\n",
    "common_purposes = ['Personal', 'Business', 'Instructional', 'Ferry', 'Executive/corporate','Aerial Observation', 'Aerial Application', 'Public Aircraft', 'Other Work Use']\n",
    "cleaned_df['Purpose.of.flight'] = cleaned_df['Purpose.of.flight'].apply(lambda x: x if x in common_purposes else 'Other')"
   ]
  },
  {
   "cell_type": "code",
   "execution_count": 46,
   "id": "e372c225-24b9-4f4e-94fe-d702d16408ab",
   "metadata": {},
   "outputs": [
    {
     "data": {
      "text/plain": [
       "Purpose.of.flight\n",
       "Personal               41098\n",
       "Instructional           8717\n",
       "Other                   7700\n",
       "Aerial Application      4104\n",
       "Business                3456\n",
       "Other Work Use           935\n",
       "Ferry                    724\n",
       "Aerial Observation       660\n",
       "Public Aircraft          528\n",
       "Executive/corporate      447\n",
       "Name: count, dtype: int64"
      ]
     },
     "execution_count": 46,
     "metadata": {},
     "output_type": "execute_result"
    }
   ],
   "source": [
    "cleaned_df['Purpose.of.flight'].value_counts()"
   ]
  },
  {
   "cell_type": "markdown",
   "id": "baff4a6d-871e-428c-a9bc-d5c7810f5d42",
   "metadata": {},
   "source": [
    "## Data Analysis"
   ]
  },
  {
   "cell_type": "markdown",
   "id": "34ffcf4b-a941-4427-8cfb-a85d73fe2385",
   "metadata": {},
   "source": [
    "### Accident Frequency Analysis \n",
    "   - Counting total accidents per aircraft model and ranking aircraft from fewest to most accidents to isolate low-risk types."
   ]
  },
  {
   "cell_type": "code",
   "execution_count": 50,
   "id": "1eee3688-af34-433e-9175-f526f365075b",
   "metadata": {},
   "outputs": [
    {
     "data": {
      "text/html": [
       "<div>\n",
       "<style scoped>\n",
       "    .dataframe tbody tr th:only-of-type {\n",
       "        vertical-align: middle;\n",
       "    }\n",
       "\n",
       "    .dataframe tbody tr th {\n",
       "        vertical-align: top;\n",
       "    }\n",
       "\n",
       "    .dataframe thead th {\n",
       "        text-align: right;\n",
       "    }\n",
       "</style>\n",
       "<table border=\"1\" class=\"dataframe\">\n",
       "  <thead>\n",
       "    <tr style=\"text-align: right;\">\n",
       "      <th></th>\n",
       "      <th>Make</th>\n",
       "      <th>Model</th>\n",
       "      <th>Accident Count</th>\n",
       "    </tr>\n",
       "  </thead>\n",
       "  <tbody>\n",
       "    <tr>\n",
       "      <th>3268</th>\n",
       "      <td>CESSNA</td>\n",
       "      <td>152</td>\n",
       "      <td>2095</td>\n",
       "    </tr>\n",
       "    <tr>\n",
       "      <th>3289</th>\n",
       "      <td>CESSNA</td>\n",
       "      <td>172</td>\n",
       "      <td>1522</td>\n",
       "    </tr>\n",
       "    <tr>\n",
       "      <th>3331</th>\n",
       "      <td>CESSNA</td>\n",
       "      <td>172N</td>\n",
       "      <td>940</td>\n",
       "    </tr>\n",
       "    <tr>\n",
       "      <th>10333</th>\n",
       "      <td>PIPER</td>\n",
       "      <td>PA-28-140</td>\n",
       "      <td>784</td>\n",
       "    </tr>\n",
       "    <tr>\n",
       "      <th>3243</th>\n",
       "      <td>CESSNA</td>\n",
       "      <td>150</td>\n",
       "      <td>743</td>\n",
       "    </tr>\n",
       "  </tbody>\n",
       "</table>\n",
       "</div>"
      ],
      "text/plain": [
       "         Make      Model  Accident Count\n",
       "3268   CESSNA        152            2095\n",
       "3289   CESSNA        172            1522\n",
       "3331   CESSNA       172N             940\n",
       "10333   PIPER  PA-28-140             784\n",
       "3243   CESSNA        150             743"
      ]
     },
     "execution_count": 50,
     "metadata": {},
     "output_type": "execute_result"
    }
   ],
   "source": [
    "# group by Make and Model\n",
    "grouped = cleaned_df.groupby([\"Make\", \"Model\"])\n",
    "\n",
    "# count how many times each model appears and sort by the count from smallest to largest\n",
    "accident_counts = grouped.size().reset_index(name=\"Accident Count\").sort_values(by='Accident Count', ascending=False)\n",
    "\n",
    "accident_counts.head(5)"
   ]
  },
  {
   "cell_type": "markdown",
   "id": "e500f234-6b2c-406d-b705-50f29c0cf440",
   "metadata": {},
   "source": [
    "This aircraft models above are the top 5 most involved in accidents.\n",
    "\n",
    "They dominate records, suggesting they are among the most used and also the most exposed to incident reporting across general aviation operations."
   ]
  },
  {
   "cell_type": "markdown",
   "id": "a4386941-f4f4-49d1-b58f-c008c6f55b1c",
   "metadata": {},
   "source": [
    "#### Visualization: Top 10 Aircraft Models by Accident Count"
   ]
  },
  {
   "cell_type": "code",
   "execution_count": 54,
   "id": "1aa9d896-eccb-4273-828e-03d011209cf8",
   "metadata": {},
   "outputs": [],
   "source": [
    "top_models = cleaned_df.groupby([\"Make\", \"Model\"])\n",
    "top_models = top_models.size().reset_index(name=\"Accident Count\").sort_values(by=\"Accident Count\", ascending=False).head(10)"
   ]
  },
  {
   "cell_type": "code",
   "execution_count": 56,
   "id": "733be4a3-84d2-4aa9-b9c2-0145f14aaa39",
   "metadata": {},
   "outputs": [
    {
     "data": {
      "image/png": "[encoded data removed]",
      "text/plain": [
       "<Figure size 1200x600 with 1 Axes>"
      ]
     },
     "metadata": {},
     "output_type": "display_data"
    }
   ],
   "source": [
    "# sorting the aircraft by accident count, from highest to lowest\n",
    "accident_counts_sorted = accident_counts.sort_values(by=\"Accident Count\", ascending=False)\n",
    "\n",
    "# taking only the top 10 most frequent ones\n",
    "top_models = accident_counts_sorted.head(10)\n",
    "\n",
    "# combining Make and Model into one label for better display\n",
    "labels = top_models[\"Make\"] + \" \" + top_models[\"Model\"]\n",
    "\n",
    "# horizontal bar chart to show accident counts for these top 10 aircraft\n",
    "plt.figure(figsize=(12, 6))\n",
    "plt.barh(labels, top_models[\"Accident Count\"])\n",
    "plt.xlabel(\"Accident Count\")  # x axis shows number of accidents\n",
    "plt.title(\"Top 10 Aircraft Models by Accident Count\")  # graph title\n",
    "plt.gca().invert_yaxis()  # so highest is at the top\n",
    "plt.tight_layout()\n",
    "plt.show()"
   ]
  },
  {
   "cell_type": "markdown",
   "id": "03a175d9-55aa-4f78-bac7-970c3480a746",
   "metadata": {},
   "source": [
    "##### Findings"
   ]
  },
  {
   "cell_type": "markdown",
   "id": "e6e020a8-c909-4470-b38b-38e36890c1d2",
   "metadata": {},
   "source": [
    "- The Cessna 172 and Piper PA-28 appear most frequently, likely due to widespread civilian training and personal use.\n",
    "\n",
    "- High accident counts can reflect popularity and flight volume rather than inherent aircraft risk.\n",
    "\n",
    "- These models dominate general aviation, making them critical targets for safety interventions"
   ]
  },
  {
   "cell_type": "markdown",
   "id": "9dfbd794-8d20-4751-beae-0b77de9ae3c1",
   "metadata": {},
   "source": [
    "#### Visualization: Top 10 Manufacturers by Total Accidents"
   ]
  },
  {
   "cell_type": "code",
   "execution_count": 61,
   "id": "00f439ef-569c-42a5-a40a-31da06df0927",
   "metadata": {},
   "outputs": [
    {
     "data": {
      "image/png": "[encoded data removed]",
      "text/plain": [
       "<Figure size 1000x600 with 1 Axes>"
      ]
     },
     "metadata": {},
     "output_type": "display_data"
    }
   ],
   "source": [
    "top_makes = (\n",
    "    cleaned_df[\"Make\"]\n",
    "    .value_counts()\n",
    "    .head(10)\n",
    ")\n",
    "\n",
    "plt.figure(figsize=(10, 6))\n",
    "top_makes.plot(kind=\"bar\")\n",
    "plt.ylabel(\"Accident Count\")\n",
    "plt.title(\"Top 10 Manufacturers by Total Accidents\")\n",
    "plt.xticks(rotation=45, ha=\"right\")\n",
    "plt.tight_layout()\n",
    "plt.show()"
   ]
  },
  {
   "cell_type": "markdown",
   "id": "93233980-9331-470b-bd0d-2564c1cc657d",
   "metadata": {},
   "source": [
    "##### Findings"
   ]
  },
  {
   "cell_type": "markdown",
   "id": "e482aa5d-c914-49b6-b4c3-7d770a114cfd",
   "metadata": {},
   "source": []
  },
  {
   "cell_type": "markdown",
   "id": "315bc804-a583-4879-89c2-0f4ae39399a1",
   "metadata": {},
   "source": [
    "### Severity Analysis \n",
    "   - Aggregating injuries and fatalities by model and assessing typical outcomes by aircraft type."
   ]
  },
  {
   "cell_type": "markdown",
   "id": "6ff9cf76-d639-4c3f-8948-7fc25f108948",
   "metadata": {},
   "source": [
    "We aggregate fatal and non-fatal injuries by aircraft type and included the most common aircraft damage level. This helps identify aircrafts that are mostly involved in fatal or survivable incidents"
   ]
  },
  {
   "cell_type": "code",
   "execution_count": 67,
   "id": "0a8ab66e-de24-43fe-855f-4d009f6777b7",
   "metadata": {},
   "outputs": [],
   "source": [
    "severity_stats = (\n",
    "    cleaned_df.groupby(['Make', 'Model'])\n",
    "    .agg({'Total.Fatal.Injuries': 'sum','Total.Serious.Injuries': 'sum','Total.Minor.Injuries': 'sum','Total.Uninjured': 'sum','Aircraft.damage': lambda x: x.value_counts().idxmax()})\n",
    "    .reset_index()\n",
    "    .sort_values(by='Total.Fatal.Injuries', ascending=False)\n",
    ")"
   ]
  },
  {
   "cell_type": "code",
   "execution_count": 68,
   "id": "e804e0f3-aa03-4642-89a4-8ffcbb4c0bb0",
   "metadata": {},
   "outputs": [
    {
     "data": {
      "text/html": [
       "<div>\n",
       "<style scoped>\n",
       "    .dataframe tbody tr th:only-of-type {\n",
       "        vertical-align: middle;\n",
       "    }\n",
       "\n",
       "    .dataframe tbody tr th {\n",
       "        vertical-align: top;\n",
       "    }\n",
       "\n",
       "    .dataframe thead th {\n",
       "        text-align: right;\n",
       "    }\n",
       "</style>\n",
       "<table border=\"1\" class=\"dataframe\">\n",
       "  <thead>\n",
       "    <tr style=\"text-align: right;\">\n",
       "      <th></th>\n",
       "      <th>Make</th>\n",
       "      <th>Model</th>\n",
       "      <th>Total.Fatal.Injuries</th>\n",
       "      <th>Total.Serious.Injuries</th>\n",
       "      <th>Total.Minor.Injuries</th>\n",
       "      <th>Total.Uninjured</th>\n",
       "      <th>Aircraft.damage</th>\n",
       "    </tr>\n",
       "  </thead>\n",
       "  <tbody>\n",
       "    <tr>\n",
       "      <th>3331</th>\n",
       "      <td>CESSNA</td>\n",
       "      <td>172N</td>\n",
       "      <td>346.0</td>\n",
       "      <td>177.0</td>\n",
       "      <td>284.0</td>\n",
       "      <td>1101.0</td>\n",
       "      <td>Substantial</td>\n",
       "    </tr>\n",
       "    <tr>\n",
       "      <th>3268</th>\n",
       "      <td>CESSNA</td>\n",
       "      <td>152</td>\n",
       "      <td>343.0</td>\n",
       "      <td>175.0</td>\n",
       "      <td>361.0</td>\n",
       "      <td>2103.0</td>\n",
       "      <td>Substantial</td>\n",
       "    </tr>\n",
       "    <tr>\n",
       "      <th>10350</th>\n",
       "      <td>PIPER</td>\n",
       "      <td>PA-28-181</td>\n",
       "      <td>322.0</td>\n",
       "      <td>91.0</td>\n",
       "      <td>163.0</td>\n",
       "      <td>529.0</td>\n",
       "      <td>Substantial</td>\n",
       "    </tr>\n",
       "    <tr>\n",
       "      <th>3289</th>\n",
       "      <td>CESSNA</td>\n",
       "      <td>172</td>\n",
       "      <td>273.0</td>\n",
       "      <td>279.0</td>\n",
       "      <td>336.0</td>\n",
       "      <td>2007.0</td>\n",
       "      <td>Substantial</td>\n",
       "    </tr>\n",
       "    <tr>\n",
       "      <th>2471</th>\n",
       "      <td>BOEING</td>\n",
       "      <td>747-121</td>\n",
       "      <td>270.0</td>\n",
       "      <td>2.0</td>\n",
       "      <td>3.0</td>\n",
       "      <td>519.0</td>\n",
       "      <td>Substantial</td>\n",
       "    </tr>\n",
       "  </tbody>\n",
       "</table>\n",
       "</div>"
      ],
      "text/plain": [
       "         Make      Model  Total.Fatal.Injuries  Total.Serious.Injuries  \\\n",
       "3331   CESSNA       172N                 346.0                   177.0   \n",
       "3268   CESSNA        152                 343.0                   175.0   \n",
       "10350   PIPER  PA-28-181                 322.0                    91.0   \n",
       "3289   CESSNA        172                 273.0                   279.0   \n",
       "2471   BOEING    747-121                 270.0                     2.0   \n",
       "\n",
       "       Total.Minor.Injuries  Total.Uninjured Aircraft.damage  \n",
       "3331                  284.0           1101.0     Substantial  \n",
       "3268                  361.0           2103.0     Substantial  \n",
       "10350                 163.0            529.0     Substantial  \n",
       "3289                  336.0           2007.0     Substantial  \n",
       "2471                    3.0            519.0     Substantial  "
      ]
     },
     "execution_count": 68,
     "metadata": {},
     "output_type": "execute_result"
    }
   ],
   "source": [
    "severity_stats.head()"
   ]
  },
  {
   "cell_type": "markdown",
   "id": "98825d7f-0a19-488b-9fd5-9d8fe7c24275",
   "metadata": {},
   "source": [
    "This gives insight into which aircraft types, while frequently flown, have also seen more severe outcomes historically."
   ]
  },
  {
   "cell_type": "markdown",
   "id": "468e8496-00e7-4c67-9031-e32893a6120a",
   "metadata": {},
   "source": [
    "#### Visualization: Top 10 Aircraft Models by Total Fatalities"
   ]
  },
  {
   "cell_type": "code",
   "execution_count": 71,
   "id": "c7e10c27-f6a3-42b7-a40f-0c6950d6efa2",
   "metadata": {},
   "outputs": [],
   "source": [
    "# group by Make and Model so we can analyze each aircraft type\n",
    "grouped = cleaned_df.groupby([\"Make\", \"Model\"])\n",
    "\n",
    "# do the sum\n",
    "severity_by_model = grouped[[\"Total.Fatal.Injuries\", \"Total.Serious.Injuries\", \"Total.Minor.Injuries\"]].sum().reset_index()"
   ]
  },
  {
   "cell_type": "code",
   "execution_count": 72,
   "id": "a7755db8-1c47-4b46-b334-ad982921a5e6",
   "metadata": {},
   "outputs": [],
   "source": [
    "# sort aircraft types by the number of fatal injuries, from highest to lowest\n",
    "top_fatal = severity_by_model.sort_values(by=\"Total.Fatal.Injuries\", ascending=False)\n",
    "\n",
    "top_fatal = top_fatal.head(10)"
   ]
  },
  {
   "cell_type": "code",
   "execution_count": 73,
   "id": "6672f945-167f-485e-87d0-5bd30b93f8a3",
   "metadata": {},
   "outputs": [
    {
     "data": {
      "image/png": "[encoded data removed]",
      "text/plain": [
       "<Figure size 1200x600 with 1 Axes>"
      ]
     },
     "metadata": {},
     "output_type": "display_data"
    }
   ],
   "source": [
    "# combine Make and Model into one label for easier plotting\n",
    "labels = top_fatal[\"Make\"] + \" \" + top_fatal[\"Model\"]\n",
    "\n",
    "# draw a horizontal bar chart to show fatal injuries\n",
    "plt.figure(figsize=(12, 6))\n",
    "plt.barh(labels, top_fatal[\"Total.Fatal.Injuries\"])\n",
    "plt.xlabel(\"Total Fatal Injuries\")  # x axis label\n",
    "plt.title(\"Top 10 Aircraft Models by Total Fatalities\")  # chart title\n",
    "plt.gca().invert_yaxis()  # so the most fatalities show at the top\n",
    "plt.tight_layout()\n",
    "plt.show()"
   ]
  },
  {
   "cell_type": "markdown",
   "id": "1d4135a3-654c-459c-8189-0cc939340f7a",
   "metadata": {},
   "source": [
    "##### Findings"
   ]
  },
  {
   "cell_type": "markdown",
   "id": "1a1bc006-2f94-4fd6-adc3-9ad8153a758d",
   "metadata": {},
   "source": [
    "- Models with the highest fatalities also tend to have high accident counts, indicating potential risk exposure rather than unique danger.\n",
    "\n",
    "- Fatality totals can be skewed by specific high-casualty incidents.\n",
    "\n",
    "- Cessna and Piper models show up again, supporting the need for further normalization when interpreting raw numbers."
   ]
  },
  {
   "cell_type": "markdown",
   "id": "0d8fda8b-6b57-49aa-bd4f-3b4104fa9637",
   "metadata": {},
   "source": [
    "#### Visualization:Injury Severity Breakdown (Top 10 Aircraft by Total Injuries)"
   ]
  },
  {
   "cell_type": "code",
   "execution_count": 77,
   "id": "962f02b6-8355-4655-99d3-68ddb1fbefff",
   "metadata": {},
   "outputs": [
    {
     "data": {
      "image/png": "[encoded data removed]",
      "text/plain": [
       "<Figure size 1400x700 with 1 Axes>"
      ]
     },
     "metadata": {},
     "output_type": "display_data"
    }
   ],
   "source": [
    "top_combined = severity_by_model.copy()\n",
    "top_combined[\"Total\"] = top_combined[[\"Total.Fatal.Injuries\", \"Total.Serious.Injuries\", \"Total.Minor.Injuries\"]].sum(axis=1)\n",
    "top_combined = top_combined.sort_values(by=\"Total\", ascending=False).head(10)\n",
    "\n",
    "labels = top_combined[\"Make\"] + \" \" + top_combined[\"Model\"]\n",
    "fatal = top_combined[\"Total.Fatal.Injuries\"]\n",
    "serious = top_combined[\"Total.Serious.Injuries\"]\n",
    "minor = top_combined[\"Total.Minor.Injuries\"]\n",
    "\n",
    "plt.figure(figsize=(14, 7))\n",
    "plt.bar(labels, minor, label=\"Minor\", color=\"lightblue\")\n",
    "plt.bar(labels, serious, bottom=minor, label=\"Serious\", color=\"orange\")\n",
    "plt.bar(labels, fatal, bottom=minor + serious, label=\"Fatal\", color=\"red\")\n",
    "plt.ylabel(\"Injury Count\")\n",
    "plt.title(\"Injury Severity Breakdown (Top 10 Aircraft by Total Injuries)\")\n",
    "plt.xticks(rotation=45, ha=\"right\")\n",
    "plt.legend()\n",
    "plt.tight_layout()\n",
    "plt.show()"
   ]
  },
  {
   "cell_type": "markdown",
   "id": "0715e482-d76e-4ef5-8937-bb64dee7548f",
   "metadata": {},
   "source": [
    "##### Findings"
   ]
  },
  {
   "cell_type": "markdown",
   "id": "ded37f22-8c15-442f-a781-0c40c85460c1",
   "metadata": {},
   "source": [
    "- Some aircraft (e.g., Piper PA-28) show a larger proportion of minor and serious injuries, suggesting higher survivability.\n",
    "\n",
    "- Injury patterns reveal which aircraft tend to protect occupants better during crashes.\n",
    "\n",
    "- Even among popular models, severity distributions vary — likely due to use-case differences (e.g., training vs. transport)."
   ]
  },
  {
   "cell_type": "markdown",
   "id": "de597782-2381-4581-bb88-5e50c0ec112f",
   "metadata": {},
   "source": [
    "### Cause Analysis\n",
    "   - Analyze accident conditions using `Weather.Condition`, `Broad.phase.of.flight`, and `Purpose.of.flight`."
   ]
  },
  {
   "cell_type": "markdown",
   "id": "1201ba0f-186c-4443-9e57-e4243ed469e9",
   "metadata": {},
   "source": [
    "We examined the most common conditions under which accidents occurred for each aircraft type. This includes weather conditions, phase of flight, and operational purpose:"
   ]
  },
  {
   "cell_type": "code",
   "execution_count": 82,
   "id": "f94f2223-5cd0-46c5-bf21-de47be57250c",
   "metadata": {},
   "outputs": [],
   "source": [
    "cause_analysis = (cleaned_df.groupby(['Make', 'Model'])\n",
    "    .agg({'Weather.Condition': lambda x: x.value_counts().idxmax(),'Broad.phase.of.flight': lambda x: x.value_counts().idxmax(),'Purpose.of.flight': lambda x: x.value_counts().idxmax()})\n",
    "    .reset_index()\n",
    "    .rename(columns={'Weather.Condition': 'Most_Common_Weather','Broad.phase.of.flight': 'Most_Common_Phase','Purpose.of.flight': 'Most_Common_Purpose'\n",
    "    })\n",
    ")"
   ]
  },
  {
   "cell_type": "markdown",
   "id": "60c3dff8-8bb1-4cea-9ab4-51d09ea71ba5",
   "metadata": {},
   "source": [
    "#### Most common weather under which accidents occur"
   ]
  },
  {
   "cell_type": "code",
   "execution_count": 84,
   "id": "ee1849a0-7af3-4eec-acc1-1557d9150832",
   "metadata": {},
   "outputs": [
    {
     "data": {
      "text/plain": [
       "Most_Common_Weather\n",
       "VMC    13452\n",
       "IMC      506\n",
       "UNK      313\n",
       "Name: count, dtype: int64"
      ]
     },
     "execution_count": 84,
     "metadata": {},
     "output_type": "execute_result"
    }
   ],
   "source": [
    "cause_analysis[\"Most_Common_Weather\"].value_counts()"
   ]
  },
  {
   "cell_type": "markdown",
   "id": "1ae9547e-5114-4d07-a542-726e9ce8f467",
   "metadata": {},
   "source": [
    "#### Visualisation: Accident Distribution by Weather Condition"
   ]
  },
  {
   "cell_type": "code",
   "execution_count": 86,
   "id": "1e8d712a-e2b7-452f-a285-313bc3e87ee5",
   "metadata": {},
   "outputs": [
    {
     "data": {
      "image/png": "[encoded data removed]",
      "text/plain": [
       "<Figure size 300x300 with 1 Axes>"
      ]
     },
     "metadata": {},
     "output_type": "display_data"
    }
   ],
   "source": [
    "weather_counts = cleaned_df[\"Weather.Condition\"].value_counts()\n",
    "\n",
    "plt.figure(figsize=(3, 3))\n",
    "plt.bar(weather_counts.index, weather_counts.values, color=\"skyblue\")\n",
    "plt.title(\"Accident Distribution by Weather Condition\")\n",
    "plt.xlabel(\"Weather Condition\")\n",
    "plt.ylabel(\"Number of Accidents\")\n",
    "plt.tight_layout()\n",
    "plt.show()"
   ]
  },
  {
   "cell_type": "markdown",
   "id": "526e790e-7a5b-4e78-9df4-a67d6b1a5215",
   "metadata": {},
   "source": [
    "##### Findings"
   ]
  },
  {
   "cell_type": "markdown",
   "id": "d8b349f1-0564-4206-920c-2e67f5110bd7",
   "metadata": {},
   "source": [
    "- Most accidents occur in Visual Meteorological Conditions (VMC) indicating weather isn’t the main cause.\n",
    "\n",
    "- Instrument Meteorological Conditions (IMC), while less frequent, may contribute to more severe outcomes.\n",
    "\n",
    "- Operational and pilot error appear more influential than weather alone in accident causation.\n"
   ]
  },
  {
   "cell_type": "markdown",
   "id": "397ef80f-8ef0-401f-b577-5d908bfc4595",
   "metadata": {},
   "source": [
    "#### Most common phase under which accidents occur"
   ]
  },
  {
   "cell_type": "code",
   "execution_count": 90,
   "id": "e2a5b287-f313-4778-8e2f-3fe883415e14",
   "metadata": {},
   "outputs": [
    {
     "data": {
      "text/plain": [
       "Most_Common_Phase\n",
       "Unknown        6047\n",
       "Takeoff        1958\n",
       "Landing        1662\n",
       "Maneuvering    1474\n",
       "Cruise         1294\n",
       "Approach        958\n",
       "Climb           267\n",
       "Taxi            203\n",
       "Descent         193\n",
       "Go-around       110\n",
       "Standing         80\n",
       "Other            25\n",
       "Name: count, dtype: int64"
      ]
     },
     "execution_count": 90,
     "metadata": {},
     "output_type": "execute_result"
    }
   ],
   "source": [
    "cause_analysis[\"Most_Common_Phase\"].value_counts()"
   ]
  },
  {
   "cell_type": "markdown",
   "id": "289ad6fb-a726-4681-9d71-eef2bd3ce89e",
   "metadata": {},
   "source": [
    "#### Visualisation: Accidents by Phase of Flight"
   ]
  },
  {
   "cell_type": "code",
   "execution_count": 92,
   "id": "86ce687f-7cc6-46fb-98fc-f149b89092d8",
   "metadata": {},
   "outputs": [
    {
     "data": {
      "image/png": "[encoded data removed]",
      "text/plain": [
       "<Figure size 1000x600 with 1 Axes>"
      ]
     },
     "metadata": {},
     "output_type": "display_data"
    }
   ],
   "source": [
    "phase_counts = cleaned_df[\"Broad.phase.of.flight\"].value_counts()\n",
    "\n",
    "plt.figure(figsize=(10, 6))\n",
    "plt.barh(phase_counts.index, phase_counts.values, color=\"coral\")\n",
    "plt.title(\"Accidents by Phase of Flight\")\n",
    "plt.xlabel(\"Number of Accidents\")\n",
    "plt.ylabel(\"Flight Phase\")\n",
    "plt.tight_layout()\n",
    "plt.show()"
   ]
  },
  {
   "cell_type": "markdown",
   "id": "7696a2de-63bb-45c2-8601-08af84356f8e",
   "metadata": {},
   "source": [
    "##### Findings"
   ]
  },
  {
   "cell_type": "markdown",
   "id": "b24133a5-349c-4792-930c-3aa882b6084d",
   "metadata": {},
   "source": [
    "- Landing and approach phases account for the highest number of accidents.\n",
    "\n",
    "- The cruise phase has the lowest risk, reflecting stable conditions and fewer maneuvers.\n",
    "\n",
    "- Takeoff and climb phases also show elevated risk — suggesting critical need for focus during transitional phases."
   ]
  },
  {
   "cell_type": "code",
   "execution_count": 99,
   "id": "9856dc5c-75ed-4909-8dbd-6094259e6d1a",
   "metadata": {},
   "outputs": [
    {
     "data": {
      "text/plain": [
       "Most_Common_Purpose\n",
       "Personal               9894\n",
       "Other                  1973\n",
       "Instructional           766\n",
       "Aerial Application      602\n",
       "Business                445\n",
       "Other Work Use          179\n",
       "Ferry                   138\n",
       "Executive/corporate     110\n",
       "Public Aircraft          97\n",
       "Aerial Observation       67\n",
       "Name: count, dtype: int64"
      ]
     },
     "execution_count": 99,
     "metadata": {},
     "output_type": "execute_result"
    }
   ],
   "source": [
    "cause_analysis[\"Most_Common_Purpose\"].value_counts()"
   ]
  },
  {
   "cell_type": "markdown",
   "id": "d67aff3c-86ff-461a-98a2-b19cb2a44eca",
   "metadata": {},
   "source": [
    "#### Visualization: Aircraft Accidents by Decade"
   ]
  },
  {
   "cell_type": "code",
   "execution_count": 102,
   "id": "7714936f-96aa-4387-b76d-1351afebed62",
   "metadata": {},
   "outputs": [
    {
     "name": "stderr",
     "output_type": "stream",
     "text": [
      "C:\\Users\\ADMIN\\AppData\\Local\\Temp\\ipykernel_32248\\1018166743.py:2: SettingWithCopyWarning: \n",
      "A value is trying to be set on a copy of a slice from a DataFrame.\n",
      "Try using .loc[row_indexer,col_indexer] = value instead\n",
      "\n",
      "See the caveats in the documentation: https://pandas.pydata.org/pandas-docs/stable/user_guide/indexing.html#returning-a-view-versus-a-copy\n",
      "  cleaned_df[\"Event.Date\"] = pd.to_datetime(cleaned_df[\"Event.Date\"], errors=\"coerce\")\n",
      "C:\\Users\\ADMIN\\AppData\\Local\\Temp\\ipykernel_32248\\1018166743.py:5: SettingWithCopyWarning: \n",
      "A value is trying to be set on a copy of a slice from a DataFrame.\n",
      "Try using .loc[row_indexer,col_indexer] = value instead\n",
      "\n",
      "See the caveats in the documentation: https://pandas.pydata.org/pandas-docs/stable/user_guide/indexing.html#returning-a-view-versus-a-copy\n",
      "  cleaned_df[\"Decade\"] = (cleaned_df[\"Event.Date\"].dt.year // 10) * 10\n"
     ]
    },
    {
     "data": {
      "image/png": "[encoded data removed]",
      "text/plain": [
       "<Figure size 1000x500 with 1 Axes>"
      ]
     },
     "metadata": {},
     "output_type": "display_data"
    }
   ],
   "source": [
    "# convert the date column to proper date format\n",
    "cleaned_df[\"Event.Date\"] = pd.to_datetime(cleaned_df[\"Event.Date\"], errors=\"coerce\")\n",
    "\n",
    "# extract the decade (like 1980s, 1990s, etc.)\n",
    "cleaned_df[\"Decade\"] = (cleaned_df[\"Event.Date\"].dt.year // 10) * 10\n",
    "\n",
    "# count how many accidents happened in each decade\n",
    "decade_counts = cleaned_df[\"Decade\"].value_counts().sort_index()\n",
    "\n",
    "# draw the bar chart to show accident trends over time\n",
    "plt.figure(figsize=(10, 5))\n",
    "plt.bar(decade_counts.index.astype(str), decade_counts.values, color=\"steelblue\")\n",
    "plt.xlabel(\"Decade\")  # x axis label\n",
    "plt.ylabel(\"Number of Accidents\")  # y axis label\n",
    "plt.title(\"Aircraft Accidents by Decade\")  # chart title\n",
    "plt.tight_layout()\n",
    "plt.show()"
   ]
  },
  {
   "cell_type": "markdown",
   "id": "6d627a3e-e5d2-4f48-ba4d-fabc0e9bf396",
   "metadata": {},
   "source": [
    "##### Findings"
   ]
  },
  {
   "cell_type": "markdown",
   "id": "c5e45b14-5e8f-4343-b941-0bd2175974ce",
   "metadata": {},
   "source": [
    "- Accident counts increased sharply during the 1980s and 1990s, possibly due to expanded private and commercial flight operations.\n",
    "\n",
    "- The 2000s remain the peak, followed by a visible decline in the 2010s, suggesting improvements in aircraft safety and training.\n",
    "\n",
    "- The 2020s show fewer accidents, although this may reflect incomplete reporting for the current decade or a drop due to pandemic-related flight reductions."
   ]
  },
  {
   "cell_type": "markdown",
   "id": "a4b56ac4-8fda-4cd7-93be-46c2b4d8941a",
   "metadata": {},
   "source": [
    "### Risk Recommendation  \n",
    "   - Normalize and combine frequency and severity into a unified risk score.\n",
    "   - Rank aircraft based on overall safety and reliability."
   ]
  },
  {
   "cell_type": "code",
   "execution_count": 107,
   "id": "16d7de06-0e03-452c-a132-ad02d275d3a2",
   "metadata": {},
   "outputs": [],
   "source": [
    "accident_counts = (\n",
    "    cleaned_df.groupby([\"Make\", \"Model\"])\n",
    "    .size()\n",
    "    .reset_index(name=\"Accident Count\")\n",
    ")\n",
    "\n",
    "severity_stats = (\n",
    "    cleaned_df.groupby([\"Make\", \"Model\"])\n",
    "    .agg({\n",
    "        \"Total.Fatal.Injuries\": \"sum\",\n",
    "        \"Total.Serious.Injuries\": \"sum\",\n",
    "        \"Total.Minor.Injuries\": \"sum\",\n",
    "        \"Total.Uninjured\": \"sum\",\n",
    "        \"Aircraft.damage\": lambda x: x.value_counts().idxmax()\n",
    "    })\n",
    "    .reset_index()\n",
    ")\n",
    "\n",
    "risk_summary = pd.merge(accident_counts, severity_stats, on=[\"Make\", \"Model\"])\n",
    "risk_summary[\"Fatality Rate\"] = (\n",
    "    risk_summary[\"Total.Fatal.Injuries\"] /\n",
    "    (risk_summary[\"Total.Fatal.Injuries\"] + risk_summary[\"Total.Uninjured\"])\n",
    ")\n",
    "\n",
    "risk_summary_filtered = risk_summary.dropna(subset=[\"Fatality Rate\"])\n",
    "risk_summary_filtered = risk_summary_filtered[risk_summary_filtered[\"Accident Count\"] > 100]\n",
    "risk_summary_sorted = risk_summary_filtered.sort_values(\n",
    "    by=[\"Fatality Rate\", \"Accident Count\"], ascending=[False, False]\n",
    ")"
   ]
  },
  {
   "cell_type": "code",
   "execution_count": 108,
   "id": "4ae70105-a534-4e02-a73e-a602837cedbb",
   "metadata": {},
   "outputs": [
    {
     "data": {
      "text/html": [
       "<div>\n",
       "<style scoped>\n",
       "    .dataframe tbody tr th:only-of-type {\n",
       "        vertical-align: middle;\n",
       "    }\n",
       "\n",
       "    .dataframe tbody tr th {\n",
       "        vertical-align: top;\n",
       "    }\n",
       "\n",
       "    .dataframe thead th {\n",
       "        text-align: right;\n",
       "    }\n",
       "</style>\n",
       "<table border=\"1\" class=\"dataframe\">\n",
       "  <thead>\n",
       "    <tr style=\"text-align: right;\">\n",
       "      <th></th>\n",
       "      <th>Make</th>\n",
       "      <th>Model</th>\n",
       "      <th>Accident Count</th>\n",
       "      <th>Total.Fatal.Injuries</th>\n",
       "      <th>Total.Serious.Injuries</th>\n",
       "      <th>Total.Minor.Injuries</th>\n",
       "      <th>Total.Uninjured</th>\n",
       "      <th>Aircraft.damage</th>\n",
       "      <th>Fatality Rate</th>\n",
       "    </tr>\n",
       "  </thead>\n",
       "  <tbody>\n",
       "    <tr>\n",
       "      <th>11383</th>\n",
       "      <td>ROBINSON</td>\n",
       "      <td>R44</td>\n",
       "      <td>122</td>\n",
       "      <td>104.0</td>\n",
       "      <td>35.0</td>\n",
       "      <td>28.0</td>\n",
       "      <td>94.0</td>\n",
       "      <td>Substantial</td>\n",
       "      <td>0.525253</td>\n",
       "    </tr>\n",
       "    <tr>\n",
       "      <th>3795</th>\n",
       "      <td>CESSNA</td>\n",
       "      <td>P210N</td>\n",
       "      <td>156</td>\n",
       "      <td>100.0</td>\n",
       "      <td>53.0</td>\n",
       "      <td>60.0</td>\n",
       "      <td>112.0</td>\n",
       "      <td>Substantial</td>\n",
       "      <td>0.471698</td>\n",
       "    </tr>\n",
       "    <tr>\n",
       "      <th>1521</th>\n",
       "      <td>BEECH</td>\n",
       "      <td>A36</td>\n",
       "      <td>331</td>\n",
       "      <td>251.0</td>\n",
       "      <td>90.0</td>\n",
       "      <td>95.0</td>\n",
       "      <td>343.0</td>\n",
       "      <td>Substantial</td>\n",
       "      <td>0.422559</td>\n",
       "    </tr>\n",
       "    <tr>\n",
       "      <th>2213</th>\n",
       "      <td>BELLANCA</td>\n",
       "      <td>8KCAB</td>\n",
       "      <td>115</td>\n",
       "      <td>53.0</td>\n",
       "      <td>24.0</td>\n",
       "      <td>21.0</td>\n",
       "      <td>75.0</td>\n",
       "      <td>Substantial</td>\n",
       "      <td>0.414062</td>\n",
       "    </tr>\n",
       "    <tr>\n",
       "      <th>9267</th>\n",
       "      <td>MOONEY</td>\n",
       "      <td>M20F</td>\n",
       "      <td>143</td>\n",
       "      <td>94.0</td>\n",
       "      <td>31.0</td>\n",
       "      <td>37.0</td>\n",
       "      <td>137.0</td>\n",
       "      <td>Substantial</td>\n",
       "      <td>0.406926</td>\n",
       "    </tr>\n",
       "    <tr>\n",
       "      <th>...</th>\n",
       "      <td>...</td>\n",
       "      <td>...</td>\n",
       "      <td>...</td>\n",
       "      <td>...</td>\n",
       "      <td>...</td>\n",
       "      <td>...</td>\n",
       "      <td>...</td>\n",
       "      <td>...</td>\n",
       "      <td>...</td>\n",
       "    </tr>\n",
       "    <tr>\n",
       "      <th>3284</th>\n",
       "      <td>CESSNA</td>\n",
       "      <td>170</td>\n",
       "      <td>146</td>\n",
       "      <td>18.0</td>\n",
       "      <td>19.0</td>\n",
       "      <td>39.0</td>\n",
       "      <td>206.0</td>\n",
       "      <td>Substantial</td>\n",
       "      <td>0.080357</td>\n",
       "    </tr>\n",
       "    <tr>\n",
       "      <th>6471</th>\n",
       "      <td>GRUMMAN</td>\n",
       "      <td>G-164B</td>\n",
       "      <td>173</td>\n",
       "      <td>12.0</td>\n",
       "      <td>9.0</td>\n",
       "      <td>19.0</td>\n",
       "      <td>140.0</td>\n",
       "      <td>Substantial</td>\n",
       "      <td>0.078947</td>\n",
       "    </tr>\n",
       "    <tr>\n",
       "      <th>3425</th>\n",
       "      <td>CESSNA</td>\n",
       "      <td>185</td>\n",
       "      <td>220</td>\n",
       "      <td>34.0</td>\n",
       "      <td>12.0</td>\n",
       "      <td>54.0</td>\n",
       "      <td>411.0</td>\n",
       "      <td>Substantial</td>\n",
       "      <td>0.076404</td>\n",
       "    </tr>\n",
       "    <tr>\n",
       "      <th>10254</th>\n",
       "      <td>PIPER</td>\n",
       "      <td>PA-20</td>\n",
       "      <td>109</td>\n",
       "      <td>13.0</td>\n",
       "      <td>7.0</td>\n",
       "      <td>16.0</td>\n",
       "      <td>163.0</td>\n",
       "      <td>Substantial</td>\n",
       "      <td>0.073864</td>\n",
       "    </tr>\n",
       "    <tr>\n",
       "      <th>6468</th>\n",
       "      <td>GRUMMAN</td>\n",
       "      <td>G-164A</td>\n",
       "      <td>333</td>\n",
       "      <td>17.0</td>\n",
       "      <td>28.0</td>\n",
       "      <td>48.0</td>\n",
       "      <td>248.0</td>\n",
       "      <td>Substantial</td>\n",
       "      <td>0.064151</td>\n",
       "    </tr>\n",
       "  </tbody>\n",
       "</table>\n",
       "<p>102 rows × 9 columns</p>\n",
       "</div>"
      ],
      "text/plain": [
       "           Make   Model  Accident Count  Total.Fatal.Injuries  \\\n",
       "11383  ROBINSON     R44             122                 104.0   \n",
       "3795     CESSNA   P210N             156                 100.0   \n",
       "1521      BEECH     A36             331                 251.0   \n",
       "2213   BELLANCA   8KCAB             115                  53.0   \n",
       "9267     MOONEY    M20F             143                  94.0   \n",
       "...         ...     ...             ...                   ...   \n",
       "3284     CESSNA     170             146                  18.0   \n",
       "6471    GRUMMAN  G-164B             173                  12.0   \n",
       "3425     CESSNA     185             220                  34.0   \n",
       "10254     PIPER   PA-20             109                  13.0   \n",
       "6468    GRUMMAN  G-164A             333                  17.0   \n",
       "\n",
       "       Total.Serious.Injuries  Total.Minor.Injuries  Total.Uninjured  \\\n",
       "11383                    35.0                  28.0             94.0   \n",
       "3795                     53.0                  60.0            112.0   \n",
       "1521                     90.0                  95.0            343.0   \n",
       "2213                     24.0                  21.0             75.0   \n",
       "9267                     31.0                  37.0            137.0   \n",
       "...                       ...                   ...              ...   \n",
       "3284                     19.0                  39.0            206.0   \n",
       "6471                      9.0                  19.0            140.0   \n",
       "3425                     12.0                  54.0            411.0   \n",
       "10254                     7.0                  16.0            163.0   \n",
       "6468                     28.0                  48.0            248.0   \n",
       "\n",
       "      Aircraft.damage  Fatality Rate  \n",
       "11383     Substantial       0.525253  \n",
       "3795      Substantial       0.471698  \n",
       "1521      Substantial       0.422559  \n",
       "2213      Substantial       0.414062  \n",
       "9267      Substantial       0.406926  \n",
       "...               ...            ...  \n",
       "3284      Substantial       0.080357  \n",
       "6471      Substantial       0.078947  \n",
       "3425      Substantial       0.076404  \n",
       "10254     Substantial       0.073864  \n",
       "6468      Substantial       0.064151  \n",
       "\n",
       "[102 rows x 9 columns]"
      ]
     },
     "execution_count": 108,
     "metadata": {},
     "output_type": "execute_result"
    }
   ],
   "source": [
    "risk_summary_sorted"
   ]
  },
  {
   "attachments": {},
   "cell_type": "markdown",
   "id": "dcb915a1",
   "metadata": {},
   "source": [
    "## Recommendations\n",
    "\n",
    "1. Invest in aircraft models with consistently low accident frequency and high survivability.\n",
    "2. Examples include the Cessna 180D, De Havilland DHC-8-102, and Howard DGA-15P, all of which showed no fatalities across multiple incidents.\n",
    "3. Avoid aircraft types with high fatality records or frequent crashes during critical flight phases.\n",
    "4. Focus operational training and risk management on landing and approach phases, which showed the most accident activity across all models.\n",
    "5. Select aircraft that perform reliably in both Visual (VMC) and Instrument (IMC) weather conditions, as weather risk is often underestimated!\n"
   ]
  },
  {
   "attachments": {},
   "cell_type": "markdown",
   "id": "87b3830f-5a37-4277-9c22-a48fe841b8b9",
   "metadata": {},
   "source": [
    "## Next Steps\n",
    "\n",
    "1. Conduct a cost-benefit and maintenance feasibility study for shortlisted safe aircraft like the Cessna 180D and DHC-8-102.\n",
    "3. Develop pilot training programs and safety protocols that specifically target high-risk phases like approach and landing.\n",
    "4. Invest in technology and operational procedures that enhance safety under poor weather conditions, especially for IMC scenarios.\n",
    "5. Monitor industry safety trends and update selection criteria annually as new accident data and aviation technologies emerge"
   ]
  },
  {
   "cell_type": "markdown",
   "id": "622d86bd",
   "metadata": {},
   "source": [
    "##  Conclusion\n",
    "\n",
    "Our analysis shows that some aircraft are safer than others. Models like the Cessna 180D and DHC-8-102 have low accident and injury rates, while others like the Boeing 737 show higher fatality numbers.\n",
    "\n",
    "Most accidents happen during landing and approach, even in good weather. Flying is getting safer overall, and choosing the right aircraft and preparing for risky phases makes all the difference."
   ]
  },
  {
   "cell_type": "code",
   "execution_count": 112,
   "id": "43736945-fbb3-4665-8d28-9de973ff3fb7",
   "metadata": {},
   "outputs": [
    {
     "ename": "IllegalCharacterError",
     "evalue": "The failure of the nose gear during landing for reasons that could not be determined due to postaccident damage. \u000b\r cannot be used in worksheets.",
     "output_type": "error",
     "traceback": [
      "\u001b[1;31m---------------------------------------------------------------------------\u001b[0m",
      "\u001b[1;31mIllegalCharacterError\u001b[0m                     Traceback (most recent call last)",
      "Cell \u001b[1;32mIn[112], line 1\u001b[0m\n\u001b[1;32m----> 1\u001b[0m cleaned_df\u001b[38;5;241m.\u001b[39mto_excel(\u001b[38;5;124m'\u001b[39m\u001b[38;5;124mCleaned_Aviation_data.xlsx\u001b[39m\u001b[38;5;124m'\u001b[39m, index \u001b[38;5;241m=\u001b[39m \u001b[38;5;28;01mFalse\u001b[39;00m)\n",
      "File \u001b[1;32mD:\\Users\\ADMIN\\anaconda3\\Lib\\site-packages\\pandas\\util\\_decorators.py:333\u001b[0m, in \u001b[0;36mdeprecate_nonkeyword_arguments.<locals>.decorate.<locals>.wrapper\u001b[1;34m(*args, **kwargs)\u001b[0m\n\u001b[0;32m    327\u001b[0m \u001b[38;5;28;01mif\u001b[39;00m \u001b[38;5;28mlen\u001b[39m(args) \u001b[38;5;241m>\u001b[39m num_allow_args:\n\u001b[0;32m    328\u001b[0m     warnings\u001b[38;5;241m.\u001b[39mwarn(\n\u001b[0;32m    329\u001b[0m         msg\u001b[38;5;241m.\u001b[39mformat(arguments\u001b[38;5;241m=\u001b[39m_format_argument_list(allow_args)),\n\u001b[0;32m    330\u001b[0m         \u001b[38;5;167;01mFutureWarning\u001b[39;00m,\n\u001b[0;32m    331\u001b[0m         stacklevel\u001b[38;5;241m=\u001b[39mfind_stack_level(),\n\u001b[0;32m    332\u001b[0m     )\n\u001b[1;32m--> 333\u001b[0m \u001b[38;5;28;01mreturn\u001b[39;00m func(\u001b[38;5;241m*\u001b[39margs, \u001b[38;5;241m*\u001b[39m\u001b[38;5;241m*\u001b[39mkwargs)\n",
      "File \u001b[1;32mD:\\Users\\ADMIN\\anaconda3\\Lib\\site-packages\\pandas\\core\\generic.py:2417\u001b[0m, in \u001b[0;36mNDFrame.to_excel\u001b[1;34m(self, excel_writer, sheet_name, na_rep, float_format, columns, header, index, index_label, startrow, startcol, engine, merge_cells, inf_rep, freeze_panes, storage_options, engine_kwargs)\u001b[0m\n\u001b[0;32m   2404\u001b[0m \u001b[38;5;28;01mfrom\u001b[39;00m \u001b[38;5;21;01mpandas\u001b[39;00m\u001b[38;5;21;01m.\u001b[39;00m\u001b[38;5;21;01mio\u001b[39;00m\u001b[38;5;21;01m.\u001b[39;00m\u001b[38;5;21;01mformats\u001b[39;00m\u001b[38;5;21;01m.\u001b[39;00m\u001b[38;5;21;01mexcel\u001b[39;00m \u001b[38;5;28;01mimport\u001b[39;00m ExcelFormatter\n\u001b[0;32m   2406\u001b[0m formatter \u001b[38;5;241m=\u001b[39m ExcelFormatter(\n\u001b[0;32m   2407\u001b[0m     df,\n\u001b[0;32m   2408\u001b[0m     na_rep\u001b[38;5;241m=\u001b[39mna_rep,\n\u001b[1;32m   (...)\u001b[0m\n\u001b[0;32m   2415\u001b[0m     inf_rep\u001b[38;5;241m=\u001b[39minf_rep,\n\u001b[0;32m   2416\u001b[0m )\n\u001b[1;32m-> 2417\u001b[0m formatter\u001b[38;5;241m.\u001b[39mwrite(\n\u001b[0;32m   2418\u001b[0m     excel_writer,\n\u001b[0;32m   2419\u001b[0m     sheet_name\u001b[38;5;241m=\u001b[39msheet_name,\n\u001b[0;32m   2420\u001b[0m     startrow\u001b[38;5;241m=\u001b[39mstartrow,\n\u001b[0;32m   2421\u001b[0m     startcol\u001b[38;5;241m=\u001b[39mstartcol,\n\u001b[0;32m   2422\u001b[0m     freeze_panes\u001b[38;5;241m=\u001b[39mfreeze_panes,\n\u001b[0;32m   2423\u001b[0m     engine\u001b[38;5;241m=\u001b[39mengine,\n\u001b[0;32m   2424\u001b[0m     storage_options\u001b[38;5;241m=\u001b[39mstorage_options,\n\u001b[0;32m   2425\u001b[0m     engine_kwargs\u001b[38;5;241m=\u001b[39mengine_kwargs,\n\u001b[0;32m   2426\u001b[0m )\n",
      "File \u001b[1;32mD:\\Users\\ADMIN\\anaconda3\\Lib\\site-packages\\pandas\\io\\formats\\excel.py:952\u001b[0m, in \u001b[0;36mExcelFormatter.write\u001b[1;34m(self, writer, sheet_name, startrow, startcol, freeze_panes, engine, storage_options, engine_kwargs)\u001b[0m\n\u001b[0;32m    949\u001b[0m     need_save \u001b[38;5;241m=\u001b[39m \u001b[38;5;28;01mTrue\u001b[39;00m\n\u001b[0;32m    951\u001b[0m \u001b[38;5;28;01mtry\u001b[39;00m:\n\u001b[1;32m--> 952\u001b[0m     writer\u001b[38;5;241m.\u001b[39m_write_cells(\n\u001b[0;32m    953\u001b[0m         formatted_cells,\n\u001b[0;32m    954\u001b[0m         sheet_name,\n\u001b[0;32m    955\u001b[0m         startrow\u001b[38;5;241m=\u001b[39mstartrow,\n\u001b[0;32m    956\u001b[0m         startcol\u001b[38;5;241m=\u001b[39mstartcol,\n\u001b[0;32m    957\u001b[0m         freeze_panes\u001b[38;5;241m=\u001b[39mfreeze_panes,\n\u001b[0;32m    958\u001b[0m     )\n\u001b[0;32m    959\u001b[0m \u001b[38;5;28;01mfinally\u001b[39;00m:\n\u001b[0;32m    960\u001b[0m     \u001b[38;5;66;03m# make sure to close opened file handles\u001b[39;00m\n\u001b[0;32m    961\u001b[0m     \u001b[38;5;28;01mif\u001b[39;00m need_save:\n",
      "File \u001b[1;32mD:\\Users\\ADMIN\\anaconda3\\Lib\\site-packages\\pandas\\io\\excel\\_openpyxl.py:490\u001b[0m, in \u001b[0;36mOpenpyxlWriter._write_cells\u001b[1;34m(self, cells, sheet_name, startrow, startcol, freeze_panes)\u001b[0m\n\u001b[0;32m    486\u001b[0m \u001b[38;5;28;01mfor\u001b[39;00m cell \u001b[38;5;129;01min\u001b[39;00m cells:\n\u001b[0;32m    487\u001b[0m     xcell \u001b[38;5;241m=\u001b[39m wks\u001b[38;5;241m.\u001b[39mcell(\n\u001b[0;32m    488\u001b[0m         row\u001b[38;5;241m=\u001b[39mstartrow \u001b[38;5;241m+\u001b[39m cell\u001b[38;5;241m.\u001b[39mrow \u001b[38;5;241m+\u001b[39m \u001b[38;5;241m1\u001b[39m, column\u001b[38;5;241m=\u001b[39mstartcol \u001b[38;5;241m+\u001b[39m cell\u001b[38;5;241m.\u001b[39mcol \u001b[38;5;241m+\u001b[39m \u001b[38;5;241m1\u001b[39m\n\u001b[0;32m    489\u001b[0m     )\n\u001b[1;32m--> 490\u001b[0m     xcell\u001b[38;5;241m.\u001b[39mvalue, fmt \u001b[38;5;241m=\u001b[39m \u001b[38;5;28mself\u001b[39m\u001b[38;5;241m.\u001b[39m_value_with_fmt(cell\u001b[38;5;241m.\u001b[39mval)\n\u001b[0;32m    491\u001b[0m     \u001b[38;5;28;01mif\u001b[39;00m fmt:\n\u001b[0;32m    492\u001b[0m         xcell\u001b[38;5;241m.\u001b[39mnumber_format \u001b[38;5;241m=\u001b[39m fmt\n",
      "File \u001b[1;32mD:\\Users\\ADMIN\\anaconda3\\Lib\\site-packages\\openpyxl\\cell\\cell.py:218\u001b[0m, in \u001b[0;36mCell.value\u001b[1;34m(self, value)\u001b[0m\n\u001b[0;32m    215\u001b[0m \u001b[38;5;129m@value\u001b[39m\u001b[38;5;241m.\u001b[39msetter\n\u001b[0;32m    216\u001b[0m \u001b[38;5;28;01mdef\u001b[39;00m \u001b[38;5;21mvalue\u001b[39m(\u001b[38;5;28mself\u001b[39m, value):\n\u001b[0;32m    217\u001b[0m \u001b[38;5;250m    \u001b[39m\u001b[38;5;124;03m\"\"\"Set the value and infer type and display options.\"\"\"\u001b[39;00m\n\u001b[1;32m--> 218\u001b[0m     \u001b[38;5;28mself\u001b[39m\u001b[38;5;241m.\u001b[39m_bind_value(value)\n",
      "File \u001b[1;32mD:\\Users\\ADMIN\\anaconda3\\Lib\\site-packages\\openpyxl\\cell\\cell.py:197\u001b[0m, in \u001b[0;36mCell._bind_value\u001b[1;34m(self, value)\u001b[0m\n\u001b[0;32m    194\u001b[0m         \u001b[38;5;28mself\u001b[39m\u001b[38;5;241m.\u001b[39mnumber_format \u001b[38;5;241m=\u001b[39m get_time_format(t)\n\u001b[0;32m    196\u001b[0m \u001b[38;5;28;01melif\u001b[39;00m dt \u001b[38;5;241m==\u001b[39m \u001b[38;5;124m\"\u001b[39m\u001b[38;5;124ms\u001b[39m\u001b[38;5;124m\"\u001b[39m \u001b[38;5;129;01mand\u001b[39;00m \u001b[38;5;129;01mnot\u001b[39;00m \u001b[38;5;28misinstance\u001b[39m(value, CellRichText):\n\u001b[1;32m--> 197\u001b[0m     value \u001b[38;5;241m=\u001b[39m \u001b[38;5;28mself\u001b[39m\u001b[38;5;241m.\u001b[39mcheck_string(value)\n\u001b[0;32m    198\u001b[0m     \u001b[38;5;28;01mif\u001b[39;00m \u001b[38;5;28mlen\u001b[39m(value) \u001b[38;5;241m>\u001b[39m \u001b[38;5;241m1\u001b[39m \u001b[38;5;129;01mand\u001b[39;00m value\u001b[38;5;241m.\u001b[39mstartswith(\u001b[38;5;124m\"\u001b[39m\u001b[38;5;124m=\u001b[39m\u001b[38;5;124m\"\u001b[39m):\n\u001b[0;32m    199\u001b[0m         \u001b[38;5;28mself\u001b[39m\u001b[38;5;241m.\u001b[39mdata_type \u001b[38;5;241m=\u001b[39m \u001b[38;5;124m'\u001b[39m\u001b[38;5;124mf\u001b[39m\u001b[38;5;124m'\u001b[39m\n",
      "File \u001b[1;32mD:\\Users\\ADMIN\\anaconda3\\Lib\\site-packages\\openpyxl\\cell\\cell.py:165\u001b[0m, in \u001b[0;36mCell.check_string\u001b[1;34m(self, value)\u001b[0m\n\u001b[0;32m    163\u001b[0m value \u001b[38;5;241m=\u001b[39m value[:\u001b[38;5;241m32767\u001b[39m]\n\u001b[0;32m    164\u001b[0m \u001b[38;5;28;01mif\u001b[39;00m \u001b[38;5;28mnext\u001b[39m(ILLEGAL_CHARACTERS_RE\u001b[38;5;241m.\u001b[39mfinditer(value), \u001b[38;5;28;01mNone\u001b[39;00m):\n\u001b[1;32m--> 165\u001b[0m     \u001b[38;5;28;01mraise\u001b[39;00m IllegalCharacterError(\u001b[38;5;124mf\u001b[39m\u001b[38;5;124m\"\u001b[39m\u001b[38;5;132;01m{\u001b[39;00mvalue\u001b[38;5;132;01m}\u001b[39;00m\u001b[38;5;124m cannot be used in worksheets.\u001b[39m\u001b[38;5;124m\"\u001b[39m)\n\u001b[0;32m    166\u001b[0m \u001b[38;5;28;01mreturn\u001b[39;00m value\n",
      "\u001b[1;31mIllegalCharacterError\u001b[0m: The failure of the nose gear during landing for reasons that could not be determined due to postaccident damage. \u000b\r cannot be used in worksheets."
     ]
    }
   ],
   "source": [
    "cleaned_df.to_excel('Cleaned_Aviation_data.xlsx', index = False)"
   ]
  }
 ],
 "metadata": {
  "kernelspec": {
   "display_name": "Python [conda env:base] *",
   "language": "python",
   "name": "conda-base-py"
  },
  "language_info": {
   "codemirror_mode": {
    "name": "ipython",
    "version": 3
   },
   "file_extension": ".py",
   "mimetype": "text/x-python",
   "name": "python",
   "nbconvert_exporter": "python",
   "pygments_lexer": "ipython3",
   "version": "3.12.7"
  }
 },
 "nbformat": 4,
 "nbformat_minor": 5
}
