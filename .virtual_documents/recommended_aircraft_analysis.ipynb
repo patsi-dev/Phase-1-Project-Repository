














import pandas as pd
import numpy as np
import matplotlib.pyplot as plt


df = pd.read_csv('data/AviationData.csv', encoding = 'latin-1', low_memory = False)
df.head()


# number of rows and columns
# type of data in each column

df.info()





# number of missing values in each columns
df.isna().sum()





# Basic Statistics of numerical columns
df.describe()

















df['Make'].isna().sum()
# small number of NaN, dropping rows will be the best technique


# Doing the same for model
df['Model'].isna().sum()


df.dropna(subset = ['Make', 'Model'], inplace = True)


#confirming
df[['Make', 'Model']].isna().sum()





df['Event.Date'].isna().sum()
# no missing values


df['Event.Date'].dtype





df.loc[df['Injury.Severity'].isna(), ['Injury.Severity', 'Total.Fatal.Injuries', 'Total.Serious.Injuries', 'Total.Minor.Injuries', 'Total.Uninjured']].sample(n = 20)





df['Injury.Severity'].value_counts().head(12)


# replacing 'NaN' with 'Unavailable'
df.loc[df['Injury.Severity'].isna(), 'Injury.Severity'] = 'Unavailable'


df['Injury.Severity'].isna().sum()





df.loc[df['Injury.Severity'].str.contains('Fatal\\('), 'Injury.Severity'] = 'Fatal' # included '(' in "fatal\\(" so as not to change the value of 'non-fatal'


df['Injury.Severity'].value_counts().head()








# printing the percentage of NaN values in this columns Aircraft.damage, Weather.Condition and Purpose.of.flight
print(df['Aircraft.damage'].isna().value_counts(normalize = True)* 100)
print(df['Weather.Condition'].isna().value_counts(normalize = True)* 100)
print(df['Purpose.of.flight'].isna().value_counts(normalize = True)* 100)





# printing unique values of weather.condition
df['Weather.Condition'].value_counts()
# UNK and unk represents unknown


# mapping Unk to UNK(for consistency) and filling missing values 'NaN' with UNK(unknown)
unkToUNK = {'Unk' : 'UNK', 'IMC' : 'IMC', 'UNK' : 'UNK', 'VMC' : 'VMC'}
df['Weather.Condition'] = df['Weather.Condition'].map(unkToUNK).fillna('UNK')


# printing unique values of weather.condition to see the results
df['Weather.Condition'].value_counts()





#printing each unique value and it's count
df['Purpose.of.flight'].value_counts()


df['Purpose.of.flight'] = df['Purpose.of.flight'].fillna('Unknown')


df['Purpose.of.flight'].value_counts()





df['Aircraft.damage'].value_counts()


# replacing 'NaN' with 'Unknown'
df['Aircraft.damage'] = df['Aircraft.damage'].fillna('Unknown')


df['Aircraft.damage'].value_counts()

















# printing percentage of missing values of this columns: Total.Fatal.Injuries, Total.Serious.Injuries, Total.Minor.Injuries, Total.Uninjured
print(df['Total.Fatal.Injuries'].isna().value_counts(normalize = True) * 100)
print(df['Total.Serious.Injuries'].isna().value_counts(normalize = True) * 100)
print(df['Total.Minor.Injuries'].isna().value_counts(normalize = True)* 100)
print(df['Total.Uninjured'].isna().value_counts(normalize = True)* 100)


# Replacing NaN with 0 for each column
df['Total.Fatal.Injuries'] = df['Total.Fatal.Injuries'].fillna(0)
df['Total.Serious.Injuries'] = df['Total.Serious.Injuries'].fillna(0)
df['Total.Minor.Injuries'] = df['Total.Minor.Injuries'].fillna(0)
df['Total.Uninjured'] = df['Total.Uninjured'].fillna(0)


# printing percentage of missing values of this columns: Total.Fatal.Injuries, Total.Serious.Injuries, Total.Minor.Injuries, Total.Uninjured
# After replacing NaN with 0
print(df['Total.Fatal.Injuries'].isna().value_counts(normalize = True) * 100)
print(df['Total.Serious.Injuries'].isna().value_counts(normalize = True) * 100)
print(df['Total.Minor.Injuries'].isna().value_counts(normalize = True)* 100)
print(df['Total.Uninjured'].isna().value_counts(normalize = True)* 100)








df.duplicated().value_counts()








# This code gets the year of each value in date column
df['Year'] = df['Event.Date'].map(lambda x: x.split('-')[0]).astype(int)


df['Decade'] = (np.floor(df['Year']/10)*10).astype(int)


df['Decade']





#  
df['Severity_Index'] = 10 * df['Total.Fatal.Injuries'] + 5 * df['Total.Serious.Injuries'] + 1 * df['Total.Minor.Injuries']


df.loc[ df['Total.Fatal.Injuries']> 0, 'Is_Fatal' ] = 1
df.loc[ df['Total.Fatal.Injuries'] == 0 , 'Is_Fatal' ] = 0


df.loc[76058, ]








accident_freq = (
    df.groupby(['Make', 'Model'])
    .size()
    .reset_index(name='Total_Accidents', True)
    .sort_values('Total_Accidents')
)


accident_freq


fig, ax = plt.subplots(figsize = (20,15))
ax.bar(Aircraft_Make[0:5], df_agg['Total_Accidents'].head(), width=0.8, color='skyblue', edgecolor='black')
ax.set_title('Number of accidents per aircraft Make')
ax.set_xlabel('Make')
ax.set_ylabel('No of Accidents')
plt.show()






